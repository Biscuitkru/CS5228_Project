{
  "cells": [
    {
      "cell_type": "markdown",
      "metadata": {
        "id": "view-in-github",
        "colab_type": "text"
      },
      "source": [
        "<a href=\"https://colab.research.google.com/github/Biscuitkru/CS5228_Project/blob/main/CS5228_Project.ipynb\" target=\"_parent\"><img src=\"https://colab.research.google.com/assets/colab-badge.svg\" alt=\"Open In Colab\"/></a>"
      ]
    },
    {
      "cell_type": "code",
<<<<<<< Updated upstream
<<<<<<< Updated upstream
      "execution_count": null,
=======
      "execution_count": 58,
>>>>>>> Stashed changes
=======
      "execution_count": 58,
>>>>>>> Stashed changes
      "metadata": {
        "id": "-5opL5RffEW5"
      },
      "outputs": [],
      "source": [
        "import os, re, math, json\n",
        "import numpy as np\n",
        "import pandas as pd\n",
        "import matplotlib.pyplot as plt\n",
        "\n",
        "from datetime import datetime\n",
        "from typing import Tuple, Dict, List\n",
        "from collections import Counter"
      ]
    },
    {
      "cell_type": "code",
<<<<<<< Updated upstream
<<<<<<< Updated upstream
      "execution_count": null,
=======
      "execution_count": 59,
>>>>>>> Stashed changes
=======
      "execution_count": 59,
>>>>>>> Stashed changes
      "metadata": {
        "id": "vuQJdXpBq13E"
      },
      "outputs": [],
      "source": [
        "# from google.colab import drive\n",
        "# drive.mount('/content/drive')"
      ]
    },
    {
      "cell_type": "code",
<<<<<<< Updated upstream
<<<<<<< Updated upstream
      "execution_count": null,
=======
      "execution_count": 60,
>>>>>>> Stashed changes
=======
      "execution_count": 60,
>>>>>>> Stashed changes
      "metadata": {
        "id": "kscCewndpa4x"
      },
      "outputs": [],
      "source": [
        "# ########################################\n",
        "# # Configs\n",
        "# ########################################\n",
        "\n",
        "# # Main\n",
        "# train_path = \"/content/drive/MyDrive/CS Masters/CS5228/train.csv\"\n",
        "# test_path = \"/content/drive/MyDrive/CS Masters/CS5228/test.csv\"\n",
        "\n",
        "# # Auxiliary data\n",
        "# hdb_data_path = \"/content/drive/MyDrive/CS Masters/CS5228/auxiliary-data/sg-hdb-block-details.csv\"\n",
        "# gov_hawkers_path = \"/content/drive/MyDrive/CS Masters/CS5228/auxiliary-data/sg-gov-hawkers.csv\"\n",
        "# mrt_stations_path = \"/content/drive/MyDrive/CS Masters/CS5228/auxiliary-data/sg-mrt-stations.csv\"\n",
        "# pri_schools_path = \"/content/drive/MyDrive/CS Masters/CS5228/auxiliary-data/sg-primary-schools.csv\"\n",
        "# sec_schools_path = \"/content/drive/MyDrive/CS Masters/CS5228/auxiliary-data/sg-secondary-schools.csv\"\n",
        "# shopping_malls_path = \"/content/drive/MyDrive/CS Masters/CS5228/auxiliary-data/sg-shopping-malls.csv\"\n",
        "\n",
        "# # Modeling controls\n",
        "# seed = 777\n",
        "# np.random.seed(seed)"
      ]
    },
    {
      "cell_type": "code",
<<<<<<< Updated upstream
<<<<<<< Updated upstream
      "execution_count": null,
      "metadata": {
        "id": "Cyg9CKvU8Pz8"
      },
=======
=======
>>>>>>> Stashed changes
      "execution_count": 61,
      "metadata": {},
>>>>>>> Stashed changes
      "outputs": [],
      "source": [
        "################################\n",
        "# configs for local\n",
        "################################\n",
        "\n",
        "local_path = r\"D:\\Shared\\Study\\CS5228\\CS5228_Project\\data\"\n",
        "\n",
        "\n",
        "# Main\n",
        "train_path = local_path + \"/train.csv\"\n",
        "test_path = local_path + \"/test.csv\"\n",
        "\n",
        "# Auxiliary data\n",
        "hdb_data_path = local_path + \"/auxiliary-data/sg-hdb-block-details.csv\"\n",
        "gov_hawkers_path = local_path + \"/auxiliary-data/sg-gov-hawkers.csv\"\n",
        "mrt_stations_path = local_path + \"/auxiliary-data/sg-mrt-stations.csv\"\n",
        "pri_schools_path = local_path + \"/auxiliary-data/sg-primary-schools.csv\"\n",
        "sec_schools_path = local_path + \"/auxiliary-data/sg-secondary-schools.csv\"\n",
        "shopping_malls_path = local_path + \"/auxiliary-data/sg-shopping-malls.csv\"\n",
        "\n",
        "# Modeling controls\n",
        "seed = 777\n",
        "np.random.seed(seed)"
      ]
    },
    {
      "cell_type": "markdown",
      "metadata": {
        "id": "hgt6SmUwv4_V"
      },
      "source": [
        "## Data Preprocessing"
      ]
    },
    {
      "cell_type": "code",
<<<<<<< Updated upstream
<<<<<<< Updated upstream
      "execution_count": null,
=======
      "execution_count": 62,
>>>>>>> Stashed changes
=======
      "execution_count": 62,
>>>>>>> Stashed changes
      "metadata": {
        "id": "tCO8nZTe654f"
      },
      "outputs": [],
      "source": [
        "train_df = pd.read_csv(train_path)\n",
        "test_df = pd.read_csv(test_path)"
      ]
    },
    {
      "cell_type": "code",
<<<<<<< Updated upstream
<<<<<<< Updated upstream
      "execution_count": null,
=======
      "execution_count": 63,
>>>>>>> Stashed changes
=======
      "execution_count": 63,
>>>>>>> Stashed changes
      "metadata": {
        "colab": {
          "base_uri": "https://localhost:8080/",
          "height": 206
        },
        "id": "cbKppmwq7BPV",
        "outputId": "c00e3122-5a15-4178-bf10-66f1ea50936d"
      },
      "outputs": [
        {
          "data": {
            "text/html": [
              "<div>\n",
              "<style scoped>\n",
              "    .dataframe tbody tr th:only-of-type {\n",
              "        vertical-align: middle;\n",
              "    }\n",
              "\n",
              "    .dataframe tbody tr th {\n",
              "        vertical-align: top;\n",
              "    }\n",
              "\n",
              "    .dataframe thead th {\n",
              "        text-align: right;\n",
              "    }\n",
              "</style>\n",
              "<table border=\"1\" class=\"dataframe\">\n",
              "  <thead>\n",
              "    <tr style=\"text-align: right;\">\n",
              "      <th></th>\n",
              "      <th>MONTH</th>\n",
              "      <th>TOWN</th>\n",
              "      <th>FLAT_TYPE</th>\n",
              "      <th>BLOCK</th>\n",
              "      <th>STREET</th>\n",
              "      <th>FLOOR_RANGE</th>\n",
              "      <th>FLOOR_AREA_SQM</th>\n",
              "      <th>FLAT_MODEL</th>\n",
              "      <th>ECO_CATEGORY</th>\n",
              "      <th>LEASE_COMMENCE_DATA</th>\n",
              "      <th>RESALE_PRICE</th>\n",
              "    </tr>\n",
              "  </thead>\n",
              "  <tbody>\n",
              "    <tr>\n",
              "      <th>0</th>\n",
              "      <td>2020-10</td>\n",
              "      <td>woodlands</td>\n",
              "      <td>4 room</td>\n",
              "      <td>681B</td>\n",
              "      <td>woodlands drive 62</td>\n",
              "      <td>07 to 09</td>\n",
              "      <td>102.0</td>\n",
              "      <td>premium apartment</td>\n",
              "      <td>uncategorized</td>\n",
              "      <td>2000</td>\n",
              "      <td>420000.0</td>\n",
              "    </tr>\n",
              "    <tr>\n",
              "      <th>1</th>\n",
              "      <td>2021-07</td>\n",
              "      <td>bishan</td>\n",
              "      <td>4 room</td>\n",
              "      <td>264</td>\n",
              "      <td>bishan street 24</td>\n",
              "      <td>07 to 09</td>\n",
              "      <td>104.0</td>\n",
              "      <td>model a</td>\n",
              "      <td>uncategorized</td>\n",
              "      <td>1992</td>\n",
              "      <td>585000.0</td>\n",
              "    </tr>\n",
              "    <tr>\n",
              "      <th>2</th>\n",
              "      <td>2021-05</td>\n",
              "      <td>bukit panjang</td>\n",
              "      <td>4 room</td>\n",
              "      <td>520</td>\n",
              "      <td>jelapang road</td>\n",
              "      <td>19 to 21</td>\n",
              "      <td>102.0</td>\n",
              "      <td>model a</td>\n",
              "      <td>uncategorized</td>\n",
              "      <td>1998</td>\n",
              "      <td>450000.0</td>\n",
              "    </tr>\n",
              "    <tr>\n",
              "      <th>3</th>\n",
              "      <td>2021-08</td>\n",
              "      <td>punggol</td>\n",
              "      <td>4 room</td>\n",
              "      <td>121B</td>\n",
              "      <td>edgedale plains</td>\n",
              "      <td>16 to 18</td>\n",
              "      <td>93.0</td>\n",
              "      <td>model a</td>\n",
              "      <td>uncategorized</td>\n",
              "      <td>2017</td>\n",
              "      <td>465000.0</td>\n",
              "    </tr>\n",
              "    <tr>\n",
              "      <th>4</th>\n",
              "      <td>2023-05</td>\n",
              "      <td>hougang</td>\n",
              "      <td>5 room</td>\n",
              "      <td>997B</td>\n",
              "      <td>Buangkok Crescent</td>\n",
              "      <td>10 to 12</td>\n",
              "      <td>113.0</td>\n",
              "      <td>improved</td>\n",
              "      <td>uncategorized</td>\n",
              "      <td>2018</td>\n",
              "      <td>710000.0</td>\n",
              "    </tr>\n",
              "  </tbody>\n",
              "</table>\n",
              "</div>"
            ],
            "text/plain": [
              "     MONTH           TOWN FLAT_TYPE BLOCK              STREET FLOOR_RANGE  \\\n",
              "0  2020-10      woodlands    4 room  681B  woodlands drive 62    07 to 09   \n",
              "1  2021-07         bishan    4 room   264    bishan street 24    07 to 09   \n",
              "2  2021-05  bukit panjang    4 room   520       jelapang road    19 to 21   \n",
              "3  2021-08        punggol    4 room  121B     edgedale plains    16 to 18   \n",
              "4  2023-05        hougang    5 room  997B   Buangkok Crescent    10 to 12   \n",
              "\n",
              "   FLOOR_AREA_SQM         FLAT_MODEL   ECO_CATEGORY  LEASE_COMMENCE_DATA  \\\n",
              "0           102.0  premium apartment  uncategorized                 2000   \n",
              "1           104.0            model a  uncategorized                 1992   \n",
              "2           102.0            model a  uncategorized                 1998   \n",
              "3            93.0            model a  uncategorized                 2017   \n",
              "4           113.0           improved  uncategorized                 2018   \n",
              "\n",
              "   RESALE_PRICE  \n",
              "0      420000.0  \n",
              "1      585000.0  \n",
              "2      450000.0  \n",
              "3      465000.0  \n",
              "4      710000.0  "
            ]
          },
          "execution_count": 63,
          "metadata": {},
          "output_type": "execute_result"
        }
      ],
      "source": [
        "train_df.head()"
      ]
    },
    {
      "cell_type": "code",
<<<<<<< Updated upstream
<<<<<<< Updated upstream
      "execution_count": null,
=======
      "execution_count": 64,
>>>>>>> Stashed changes
=======
      "execution_count": 64,
>>>>>>> Stashed changes
      "metadata": {
        "id": "GIVDbvTK-OZt"
      },
      "outputs": [],
      "source": [
        "train_df.columns = train_df.columns.str.lower()\n",
        "test_df.columns = test_df.columns.str.lower()"
      ]
    },
    {
      "cell_type": "code",
<<<<<<< Updated upstream
<<<<<<< Updated upstream
      "execution_count": null,
=======
      "execution_count": 65,
>>>>>>> Stashed changes
=======
      "execution_count": 65,
>>>>>>> Stashed changes
      "metadata": {
        "colab": {
          "base_uri": "https://localhost:8080/",
          "height": 300
        },
        "id": "p4gO4ExbFyLa",
        "outputId": "d5360462-2a9d-477e-d1e5-6933d94ff5da"
      },
      "outputs": [
        {
          "data": {
            "text/html": [
              "<div>\n",
              "<style scoped>\n",
              "    .dataframe tbody tr th:only-of-type {\n",
              "        vertical-align: middle;\n",
              "    }\n",
              "\n",
              "    .dataframe tbody tr th {\n",
              "        vertical-align: top;\n",
              "    }\n",
              "\n",
              "    .dataframe thead th {\n",
              "        text-align: right;\n",
              "    }\n",
              "</style>\n",
              "<table border=\"1\" class=\"dataframe\">\n",
              "  <thead>\n",
              "    <tr style=\"text-align: right;\">\n",
              "      <th></th>\n",
              "      <th>floor_area_sqm</th>\n",
              "      <th>lease_commence_data</th>\n",
              "      <th>resale_price</th>\n",
              "    </tr>\n",
              "  </thead>\n",
              "  <tbody>\n",
              "    <tr>\n",
              "      <th>count</th>\n",
              "      <td>162691.000000</td>\n",
              "      <td>162691.000000</td>\n",
              "      <td>1.626910e+05</td>\n",
              "    </tr>\n",
              "    <tr>\n",
              "      <th>mean</th>\n",
              "      <td>96.891250</td>\n",
              "      <td>1996.358993</td>\n",
              "      <td>5.188430e+05</td>\n",
              "    </tr>\n",
              "    <tr>\n",
              "      <th>std</th>\n",
              "      <td>24.030547</td>\n",
              "      <td>14.245920</td>\n",
              "      <td>1.832442e+05</td>\n",
              "    </tr>\n",
              "    <tr>\n",
              "      <th>min</th>\n",
              "      <td>31.000000</td>\n",
              "      <td>1966.000000</td>\n",
              "      <td>1.500000e+05</td>\n",
              "    </tr>\n",
              "    <tr>\n",
              "      <th>25%</th>\n",
              "      <td>82.000000</td>\n",
              "      <td>1985.000000</td>\n",
              "      <td>3.820000e+05</td>\n",
              "    </tr>\n",
              "    <tr>\n",
              "      <th>50%</th>\n",
              "      <td>93.000000</td>\n",
              "      <td>1996.000000</td>\n",
              "      <td>4.880000e+05</td>\n",
              "    </tr>\n",
              "    <tr>\n",
              "      <th>75%</th>\n",
              "      <td>112.000000</td>\n",
              "      <td>2011.000000</td>\n",
              "      <td>6.220000e+05</td>\n",
              "    </tr>\n",
              "    <tr>\n",
              "      <th>max</th>\n",
              "      <td>366.700000</td>\n",
              "      <td>2022.000000</td>\n",
              "      <td>1.658888e+06</td>\n",
              "    </tr>\n",
              "  </tbody>\n",
              "</table>\n",
              "</div>"
            ],
            "text/plain": [
              "       floor_area_sqm  lease_commence_data  resale_price\n",
              "count   162691.000000        162691.000000  1.626910e+05\n",
              "mean        96.891250          1996.358993  5.188430e+05\n",
              "std         24.030547            14.245920  1.832442e+05\n",
              "min         31.000000          1966.000000  1.500000e+05\n",
              "25%         82.000000          1985.000000  3.820000e+05\n",
              "50%         93.000000          1996.000000  4.880000e+05\n",
              "75%        112.000000          2011.000000  6.220000e+05\n",
              "max        366.700000          2022.000000  1.658888e+06"
            ]
          },
          "execution_count": 65,
          "metadata": {},
          "output_type": "execute_result"
        }
      ],
      "source": [
        "train_df.describe() # No NA values at all"
      ]
    },
    {
      "cell_type": "code",
<<<<<<< Updated upstream
<<<<<<< Updated upstream
      "execution_count": null,
=======
      "execution_count": 66,
>>>>>>> Stashed changes
=======
      "execution_count": 66,
>>>>>>> Stashed changes
      "metadata": {
        "id": "8ReYfAKVI8A6"
      },
      "outputs": [],
      "source": [
        "# Date Manipulation\n",
        "def process_month_column(df):\n",
        "    df['month'] = pd.to_datetime(df['month'], format=\"%Y-%m\")\n",
        "    df['sale_year'] = df['month'].dt.year\n",
        "    df['sale_month'] = df['month'].dt.month\n",
        "    # sale_quarter as a feature to capture potential seasonality in resale prices.\n",
        "    df['sale_quarter'] = df['month'].dt.quarter\n",
        "    return df\n",
        "\n",
        "train_df = process_month_column(train_df)\n",
        "test_df = process_month_column(test_df)\n",
        "\n",
        "# additional month_index to capture trend\n",
        "abs_month_train = train_df[\"sale_year\"]*12 + train_df[\"sale_month\"]\n",
        "abs_month_test  = test_df[\"sale_year\"]*12 + test_df[\"sale_month\"]\n",
        "train_df[\"month_index\"] = (abs_month_train - abs_month_train.min()).astype(float)\n",
        "test_df[\"month_index\"]  = (abs_month_test  - abs_month_train.min()).astype(float)"
      ]
    },
    {
      "cell_type": "code",
<<<<<<< Updated upstream
<<<<<<< Updated upstream
      "execution_count": null,
=======
      "execution_count": 67,
>>>>>>> Stashed changes
=======
      "execution_count": 67,
>>>>>>> Stashed changes
      "metadata": {
        "id": "M-uuVSrbT4bT"
      },
      "outputs": [],
      "source": [
        "# To remove trailing whitespace and reduce multiple spaces to a single space\n",
        "def norm_text_basic(s):\n",
        "    if not isinstance(s, str):\n",
        "        return s\n",
        "    s = s.strip()\n",
        "    s = re.sub(r\"\\s+\", \" \", s)\n",
        "    return s\n",
        "\n",
        "# Normalise + uppercase, mainly for the str values\n",
        "def norm_key(s, case=\"upper\"):\n",
        "    s = norm_text_basic(s)\n",
        "    if isinstance(s, str):\n",
        "        return s.upper() if case == \"upper\" else s.casefold()\n",
        "    return s"
      ]
    },
    {
      "cell_type": "code",
<<<<<<< Updated upstream
<<<<<<< Updated upstream
      "execution_count": null,
=======
      "execution_count": 68,
>>>>>>> Stashed changes
=======
      "execution_count": 68,
>>>>>>> Stashed changes
      "metadata": {
        "id": "sBtiHIZET97m"
      },
      "outputs": [],
      "source": [
        "for col in [\"town\",\"flat_type\", \"block\", \"street\", \"flat_model\"]:\n",
        "    if col in train_df.columns: train_df[col] = train_df[col].map(norm_key)\n",
        "    if col in test_df.columns: test_df[col]  = test_df[col].map(norm_key)"
      ]
    },
    {
      "cell_type": "code",
<<<<<<< Updated upstream
<<<<<<< Updated upstream
      "execution_count": null,
=======
      "execution_count": 69,
>>>>>>> Stashed changes
=======
      "execution_count": 69,
>>>>>>> Stashed changes
      "metadata": {
        "colab": {
          "base_uri": "https://localhost:8080/"
        },
        "id": "rFDBuwI495Ym",
        "outputId": "ab421bc8-92a5-46ad-c532-0b53f2d954cb"
      },
      "outputs": [
        {
          "data": {
            "text/plain": [
              "array(['4 ROOM', '5 ROOM', '3 ROOM', '5-ROOM', '3-ROOM', 'EXECUTIVE',\n",
              "       '4-ROOM', '2-ROOM', '2 ROOM', '1 ROOM', 'MULTI GENERATION',\n",
              "       '1-ROOM'], dtype=object)"
            ]
          },
          "execution_count": 69,
          "metadata": {},
          "output_type": "execute_result"
        }
      ],
      "source": [
        "train_df[\"flat_type\"].unique()"
      ]
    },
    {
      "cell_type": "code",
<<<<<<< Updated upstream
<<<<<<< Updated upstream
      "execution_count": null,
=======
      "execution_count": 70,
>>>>>>> Stashed changes
=======
      "execution_count": 70,
>>>>>>> Stashed changes
      "metadata": {
        "colab": {
          "base_uri": "https://localhost:8080/"
        },
        "id": "T07R3ZcWUleN",
        "outputId": "6944c8ea-3ce5-45b0-b775-e85a7d7d52c9"
      },
      "outputs": [
        {
          "data": {
            "text/plain": [
              "array(['3 ROOM', '4 ROOM', '5-ROOM', '5 ROOM', '4-ROOM', 'EXECUTIVE',\n",
              "       '3-ROOM', '2 ROOM', '2-ROOM', '1-ROOM', 'MULTI GENERATION',\n",
              "       '1 ROOM'], dtype=object)"
            ]
          },
          "execution_count": 70,
          "metadata": {},
          "output_type": "execute_result"
        }
      ],
      "source": [
        "test_df[\"flat_type\"].unique()"
      ]
    },
    {
      "cell_type": "code",
<<<<<<< Updated upstream
<<<<<<< Updated upstream
      "execution_count": null,
=======
      "execution_count": 71,
>>>>>>> Stashed changes
=======
      "execution_count": 71,
>>>>>>> Stashed changes
      "metadata": {
        "id": "EWiapvSV-ES9"
      },
      "outputs": [],
      "source": [
        "# Standardize flat type\n",
        "def standardise_flat_type(val: str) -> str:\n",
        "    v = val.strip().replace(\"_\", \" \").replace(\"-\", \" \").replace(\"  \", \" \")\n",
        "    v = v.replace(\"ROOM\", \" ROOM\")\n",
        "    v = re.sub(r\"\\s+\", \" \", v).strip()\n",
        "    return v"
      ]
    },
    {
      "cell_type": "code",
<<<<<<< Updated upstream
<<<<<<< Updated upstream
      "execution_count": null,
=======
      "execution_count": 72,
>>>>>>> Stashed changes
=======
      "execution_count": 72,
>>>>>>> Stashed changes
      "metadata": {
        "colab": {
          "base_uri": "https://localhost:8080/"
        },
        "id": "90f96cca",
        "outputId": "eee2eaff-b46f-4416-c821-c6f5590ed0e9"
      },
      "outputs": [
        {
          "name": "stdout",
          "output_type": "stream",
          "text": [
            "['4 ROOM' '5 ROOM' '3 ROOM' 'EXECUTIVE' '2 ROOM' '1 ROOM'\n",
            " 'MULTI GENERATION']\n"
          ]
        }
      ],
      "source": [
        "train_df['flat_type'] = train_df['flat_type'].apply(standardise_flat_type)\n",
        "test_df['flat_type'] = test_df['flat_type'].apply(standardise_flat_type)\n",
        "print(train_df['flat_type'].unique())"
      ]
    },
    {
      "cell_type": "code",
<<<<<<< Updated upstream
<<<<<<< Updated upstream
      "execution_count": null,
=======
      "execution_count": 73,
>>>>>>> Stashed changes
=======
      "execution_count": 73,
>>>>>>> Stashed changes
      "metadata": {
        "id": "rMr_mhjcQTP5"
      },
      "outputs": [],
      "source": [
        "# General Price hierarchy for HDB flats\n",
        "flat_type_order = [\"1 ROOM\",\"2 ROOM\",\"3 ROOM\",\"4 ROOM\",\"5 ROOM\",\"MULTI GENERATION\",\"EXECUTIVE\"]\n",
        "order_map = {ft:i for i, ft in enumerate(flat_type_order)}\n",
        "\n",
        "train_df[\"flat_type_price_hier\"] = train_df[\"flat_type\"].map(lambda x: order_map.get(str(x).upper(), np.nan))\n",
        "test_df[\"flat_type_price_hier\"]  = test_df[\"flat_type\"].map(lambda x: order_map.get(str(x).upper(), np.nan))\n",
        "\n",
        "# For Decision trees\n",
        "for col, val in [(\"is_exec\",\"EXECUTIVE\"), (\"is_multigen\",\"MULTI GENERATION\")]:\n",
        "    train_df[col] = (train_df[\"flat_type\"].str.upper() == val).astype(int)\n",
        "    test_df[col]  = (test_df[\"flat_type\"].str.upper() == val).astype(int)"
      ]
    },
    {
      "cell_type": "code",
<<<<<<< Updated upstream
<<<<<<< Updated upstream
      "execution_count": null,
=======
      "execution_count": 74,
>>>>>>> Stashed changes
=======
      "execution_count": 74,
>>>>>>> Stashed changes
      "metadata": {
        "id": "e9KRd2WDVfDs"
      },
      "outputs": [],
      "source": [
        "# No. of Bedrooms\n",
        "BEDROOMS_MAP = {\"1 ROOM\":0,\"2 ROOM\":1,\"3 ROOM\":2,\"4 ROOM\":3,\"5 ROOM\":4,\"EXECUTIVE\":3,\"MULTI GENERATION\":4}\n",
        "train_df[\"bedrooms_est\"] = train_df[\"flat_type\"].str.upper().map(BEDROOMS_MAP)\n",
        "test_df[\"bedrooms_est\"]  = test_df[\"flat_type\"].str.upper().map(BEDROOMS_MAP)"
      ]
    },
    {
      "cell_type": "code",
<<<<<<< Updated upstream
<<<<<<< Updated upstream
      "execution_count": null,
=======
      "execution_count": 75,
>>>>>>> Stashed changes
=======
      "execution_count": 75,
>>>>>>> Stashed changes
      "metadata": {
        "id": "LdS3s_G6DB-F"
      },
      "outputs": [],
      "source": [
        "# Floor Range, just going to set as the middle numnber\n",
        "def parse_floor_mid(floor_range) -> float:\n",
        "    if isinstance(floor_range, (float)):\n",
        "        return float(floor_range)\n",
        "    m = re.findall(r\"\\d{1,2}\", floor_range)\n",
        "    if len(m) >= 2:\n",
        "        lo, hi = int(m[0]), int(m[1])\n",
        "        if lo <= hi:\n",
        "            return (lo + hi) / 2.0\n",
        "    return np.nan"
      ]
    },
    {
      "cell_type": "code",
<<<<<<< Updated upstream
<<<<<<< Updated upstream
      "execution_count": null,
=======
      "execution_count": 76,
>>>>>>> Stashed changes
=======
      "execution_count": 76,
>>>>>>> Stashed changes
      "metadata": {
        "colab": {
          "base_uri": "https://localhost:8080/"
        },
        "id": "EcfpMdUSD8px",
        "outputId": "c9828a08-d51b-4c01-ec7e-387f19c7c8ff"
      },
      "outputs": [
        {
          "name": "stdout",
          "output_type": "stream",
          "text": [
            "[ 2.  5.  8. 11. 14. 17. 20. 23. 26. 29. 32. 35. 38. 41. 44. 47. 50.]\n",
            "[ 2.  5.  8. 11. 14. 17. 20. 23. 26. 29. 32. 35. 38. 41. 44. 47. 50.]\n"
          ]
        }
      ],
      "source": [
        "train_df['floor_range'] = train_df['floor_range'].apply(parse_floor_mid).astype(float)\n",
        "train_df = train_df.rename(columns={\"floor_range\": \"floor_mid\"})\n",
        "\n",
        "test_df['floor_range'] = test_df['floor_range'].apply(parse_floor_mid).astype(float)\n",
        "test_df = test_df.rename(columns={\"floor_range\": \"floor_mid\"})\n",
        "\n",
        "print(np.sort(train_df['floor_mid'].unique()))\n",
        "print(np.sort(test_df['floor_mid'].unique()))"
      ]
    },
    {
      "cell_type": "code",
<<<<<<< Updated upstream
<<<<<<< Updated upstream
      "execution_count": null,
=======
      "execution_count": 77,
>>>>>>> Stashed changes
=======
      "execution_count": 77,
>>>>>>> Stashed changes
      "metadata": {
        "colab": {
          "base_uri": "https://localhost:8080/"
        },
        "id": "fED6z-VqH6kK",
        "outputId": "ab6d1022-b115-4863-d570-329200f3ffe1"
      },
      "outputs": [
        {
          "data": {
            "text/plain": [
              "array(['PREMIUM APARTMENT', 'MODEL A', 'IMPROVED', 'NEW GENERATION',\n",
              "       'STANDARD', 'MAISONETTE', 'DBSS', 'SIMPLIFIED', 'APARTMENT',\n",
              "       'MODEL A2', 'TYPE S1', 'ADJOINED FLAT', 'MODEL A MAISONETTE',\n",
              "       'TYPE S2', '3GEN', '2 ROOM', 'TERRACE', 'PREMIUM APARTMENT LOFT',\n",
              "       'PREMIUM MAISONETTE', 'MULTI GENERATION', 'IMPROVED MAISONETTE'],\n",
              "      dtype=object)"
            ]
          },
          "execution_count": 77,
          "metadata": {},
          "output_type": "execute_result"
        }
      ],
      "source": [
        "train_df['flat_model'].unique()"
      ]
    },
    {
      "cell_type": "code",
<<<<<<< Updated upstream
<<<<<<< Updated upstream
      "execution_count": null,
=======
      "execution_count": 78,
>>>>>>> Stashed changes
=======
      "execution_count": 78,
>>>>>>> Stashed changes
      "metadata": {
        "colab": {
          "base_uri": "https://localhost:8080/"
        },
        "id": "TkLjMMuhH-U3",
        "outputId": "6cc51d72-9dce-468e-8e48-46aeeb916f83"
      },
      "outputs": [
        {
          "data": {
            "text/plain": [
              "array(['MODEL A', 'IMPROVED', 'SIMPLIFIED', 'APARTMENT',\n",
              "       'PREMIUM APARTMENT', 'NEW GENERATION', 'STANDARD', 'MAISONETTE',\n",
              "       'DBSS', 'MODEL A MAISONETTE', 'MODEL A2', 'IMPROVED MAISONETTE',\n",
              "       'TYPE S1', '2 ROOM', 'ADJOINED FLAT', '3GEN', 'TYPE S2',\n",
              "       'PREMIUM APARTMENT LOFT', 'TERRACE', 'PREMIUM MAISONETTE',\n",
              "       'MULTI GENERATION'], dtype=object)"
            ]
          },
          "execution_count": 78,
          "metadata": {},
          "output_type": "execute_result"
        }
      ],
      "source": [
        "test_df['flat_model'].unique()"
      ]
    },
    {
      "cell_type": "code",
<<<<<<< Updated upstream
<<<<<<< Updated upstream
      "execution_count": null,
=======
      "execution_count": 79,
>>>>>>> Stashed changes
=======
      "execution_count": 79,
>>>>>>> Stashed changes
      "metadata": {
        "colab": {
          "base_uri": "https://localhost:8080/"
        },
        "id": "dnsvG2lTEUyN",
        "outputId": "46f62102-a01f-4edc-9fb3-f58e1d394c1d"
      },
      "outputs": [
        {
          "name": "stdout",
          "output_type": "stream",
          "text": [
            "['uncategorized']\n",
            "['uncategorized']\n"
          ]
        }
      ],
      "source": [
        "print(train_df['eco_category'].unique())\n",
        "print(test_df['eco_category'].unique())\n",
        "\n",
        "# Current dataset is taken directly from the Kaggle scoreboard which is missing eco_category (Might need to double check whether this is true)\n",
        "train_df = train_df.drop('eco_category', axis=1)\n",
        "test_df = test_df.drop('eco_category', axis=1)"
      ]
    },
    {
      "cell_type": "code",
<<<<<<< Updated upstream
<<<<<<< Updated upstream
      "execution_count": null,
=======
      "execution_count": 80,
>>>>>>> Stashed changes
=======
      "execution_count": 80,
>>>>>>> Stashed changes
      "metadata": {
        "id": "ksQv094-QRMA"
      },
      "outputs": [],
      "source": [
        "# Flat age, years left from 99\n",
        "train_df = train_df.rename(columns={\"lease_commence_data\": \"lease_commence_date\"})\n",
        "test_df = test_df.rename(columns={\"lease_commence_data\": \"lease_commence_date\"})\n",
        "\n",
        "train_df[\"lease_left\"] = 99 - (train_df[\"sale_year\"] - train_df[\"lease_commence_date\"])\n",
        "test_df[\"lease_left\"] = 99 - (test_df[\"sale_year\"] - test_df[\"lease_commence_date\"])"
      ]
    },
    {
      "cell_type": "code",
<<<<<<< Updated upstream
<<<<<<< Updated upstream
      "execution_count": null,
=======
      "execution_count": 81,
>>>>>>> Stashed changes
=======
      "execution_count": 81,
>>>>>>> Stashed changes
      "metadata": {
        "colab": {
          "base_uri": "https://localhost:8080/",
          "height": 313
        },
        "id": "mFIxY6tdXa-l",
        "outputId": "21b3206d-52b5-4ed1-e7a2-74a98c77e0ba"
      },
      "outputs": [
        {
          "data": {
            "text/html": [
              "<div>\n",
              "<style scoped>\n",
              "    .dataframe tbody tr th:only-of-type {\n",
              "        vertical-align: middle;\n",
              "    }\n",
              "\n",
              "    .dataframe tbody tr th {\n",
              "        vertical-align: top;\n",
              "    }\n",
              "\n",
              "    .dataframe thead th {\n",
              "        text-align: right;\n",
              "    }\n",
              "</style>\n",
              "<table border=\"1\" class=\"dataframe\">\n",
              "  <thead>\n",
              "    <tr style=\"text-align: right;\">\n",
              "      <th></th>\n",
              "      <th>month</th>\n",
              "      <th>town</th>\n",
              "      <th>flat_type</th>\n",
              "      <th>block</th>\n",
              "      <th>street</th>\n",
              "      <th>floor_mid</th>\n",
              "      <th>floor_area_sqm</th>\n",
              "      <th>flat_model</th>\n",
              "      <th>lease_commence_date</th>\n",
              "      <th>resale_price</th>\n",
              "      <th>sale_year</th>\n",
              "      <th>sale_month</th>\n",
              "      <th>sale_quarter</th>\n",
              "      <th>month_index</th>\n",
              "      <th>flat_type_price_hier</th>\n",
              "      <th>is_exec</th>\n",
              "      <th>is_multigen</th>\n",
              "      <th>bedrooms_est</th>\n",
              "      <th>lease_left</th>\n",
              "    </tr>\n",
              "  </thead>\n",
              "  <tbody>\n",
              "    <tr>\n",
              "      <th>0</th>\n",
              "      <td>2020-10-01</td>\n",
              "      <td>WOODLANDS</td>\n",
              "      <td>4 ROOM</td>\n",
              "      <td>681B</td>\n",
              "      <td>WOODLANDS DRIVE 62</td>\n",
              "      <td>8.0</td>\n",
              "      <td>102.0</td>\n",
              "      <td>PREMIUM APARTMENT</td>\n",
              "      <td>2000</td>\n",
              "      <td>420000.0</td>\n",
              "      <td>2020</td>\n",
              "      <td>10</td>\n",
              "      <td>4</td>\n",
              "      <td>45.0</td>\n",
              "      <td>3</td>\n",
              "      <td>0</td>\n",
              "      <td>0</td>\n",
              "      <td>3</td>\n",
              "      <td>79</td>\n",
              "    </tr>\n",
              "    <tr>\n",
              "      <th>1</th>\n",
              "      <td>2021-07-01</td>\n",
              "      <td>BISHAN</td>\n",
              "      <td>4 ROOM</td>\n",
              "      <td>264</td>\n",
              "      <td>BISHAN STREET 24</td>\n",
              "      <td>8.0</td>\n",
              "      <td>104.0</td>\n",
              "      <td>MODEL A</td>\n",
              "      <td>1992</td>\n",
              "      <td>585000.0</td>\n",
              "      <td>2021</td>\n",
              "      <td>7</td>\n",
              "      <td>3</td>\n",
              "      <td>54.0</td>\n",
              "      <td>3</td>\n",
              "      <td>0</td>\n",
              "      <td>0</td>\n",
              "      <td>3</td>\n",
              "      <td>70</td>\n",
              "    </tr>\n",
              "    <tr>\n",
              "      <th>2</th>\n",
              "      <td>2021-05-01</td>\n",
              "      <td>BUKIT PANJANG</td>\n",
              "      <td>4 ROOM</td>\n",
              "      <td>520</td>\n",
              "      <td>JELAPANG ROAD</td>\n",
              "      <td>20.0</td>\n",
              "      <td>102.0</td>\n",
              "      <td>MODEL A</td>\n",
              "      <td>1998</td>\n",
              "      <td>450000.0</td>\n",
              "      <td>2021</td>\n",
              "      <td>5</td>\n",
              "      <td>2</td>\n",
              "      <td>52.0</td>\n",
              "      <td>3</td>\n",
              "      <td>0</td>\n",
              "      <td>0</td>\n",
              "      <td>3</td>\n",
              "      <td>76</td>\n",
              "    </tr>\n",
              "    <tr>\n",
              "      <th>3</th>\n",
              "      <td>2021-08-01</td>\n",
              "      <td>PUNGGOL</td>\n",
              "      <td>4 ROOM</td>\n",
              "      <td>121B</td>\n",
              "      <td>EDGEDALE PLAINS</td>\n",
              "      <td>17.0</td>\n",
              "      <td>93.0</td>\n",
              "      <td>MODEL A</td>\n",
              "      <td>2017</td>\n",
              "      <td>465000.0</td>\n",
              "      <td>2021</td>\n",
              "      <td>8</td>\n",
              "      <td>3</td>\n",
              "      <td>55.0</td>\n",
              "      <td>3</td>\n",
              "      <td>0</td>\n",
              "      <td>0</td>\n",
              "      <td>3</td>\n",
              "      <td>95</td>\n",
              "    </tr>\n",
              "    <tr>\n",
              "      <th>4</th>\n",
              "      <td>2023-05-01</td>\n",
              "      <td>HOUGANG</td>\n",
              "      <td>5 ROOM</td>\n",
              "      <td>997B</td>\n",
              "      <td>BUANGKOK CRESCENT</td>\n",
              "      <td>11.0</td>\n",
              "      <td>113.0</td>\n",
              "      <td>IMPROVED</td>\n",
              "      <td>2018</td>\n",
              "      <td>710000.0</td>\n",
              "      <td>2023</td>\n",
              "      <td>5</td>\n",
              "      <td>2</td>\n",
              "      <td>76.0</td>\n",
              "      <td>4</td>\n",
              "      <td>0</td>\n",
              "      <td>0</td>\n",
              "      <td>3</td>\n",
              "      <td>94</td>\n",
              "    </tr>\n",
              "  </tbody>\n",
              "</table>\n",
              "</div>"
            ],
            "text/plain": [
              "       month           town flat_type block              street  floor_mid  \\\n",
              "0 2020-10-01      WOODLANDS    4 ROOM  681B  WOODLANDS DRIVE 62        8.0   \n",
              "1 2021-07-01         BISHAN    4 ROOM   264    BISHAN STREET 24        8.0   \n",
              "2 2021-05-01  BUKIT PANJANG    4 ROOM   520       JELAPANG ROAD       20.0   \n",
              "3 2021-08-01        PUNGGOL    4 ROOM  121B     EDGEDALE PLAINS       17.0   \n",
              "4 2023-05-01        HOUGANG    5 ROOM  997B   BUANGKOK CRESCENT       11.0   \n",
              "\n",
              "   floor_area_sqm         flat_model  lease_commence_date  resale_price  \\\n",
              "0           102.0  PREMIUM APARTMENT                 2000      420000.0   \n",
              "1           104.0            MODEL A                 1992      585000.0   \n",
              "2           102.0            MODEL A                 1998      450000.0   \n",
              "3            93.0            MODEL A                 2017      465000.0   \n",
              "4           113.0           IMPROVED                 2018      710000.0   \n",
              "\n",
              "   sale_year  sale_month  sale_quarter  month_index  flat_type_price_hier  \\\n",
              "0       2020          10             4         45.0                     3   \n",
              "1       2021           7             3         54.0                     3   \n",
              "2       2021           5             2         52.0                     3   \n",
              "3       2021           8             3         55.0                     3   \n",
              "4       2023           5             2         76.0                     4   \n",
              "\n",
              "   is_exec  is_multigen  bedrooms_est  lease_left  \n",
              "0        0            0             3          79  \n",
              "1        0            0             3          70  \n",
              "2        0            0             3          76  \n",
              "3        0            0             3          95  \n",
              "4        0            0             3          94  "
            ]
          },
          "execution_count": 81,
          "metadata": {},
          "output_type": "execute_result"
        }
      ],
      "source": [
        "train_df.head()"
      ]
    },
    {
      "cell_type": "code",
<<<<<<< Updated upstream
<<<<<<< Updated upstream
      "execution_count": null,
=======
      "execution_count": 82,
>>>>>>> Stashed changes
=======
      "execution_count": 82,
>>>>>>> Stashed changes
      "metadata": {
        "id": "5vdiRdk8Xm3t"
      },
      "outputs": [],
      "source": [
        "# Loading Aux Data\n",
        "aux_dict = {\n",
        "    \"hdb\": pd.read_csv(hdb_data_path),\n",
        "    \"mrt\": pd.read_csv(mrt_stations_path),\n",
        "    \"pri\": pd.read_csv(pri_schools_path),\n",
        "    \"sec\": pd.read_csv(sec_schools_path),\n",
        "    \"malls\": pd.read_csv(shopping_malls_path),\n",
        "    \"hawkers\": pd.read_csv(gov_hawkers_path)\n",
        "}"
      ]
    },
    {
      "cell_type": "code",
<<<<<<< Updated upstream
<<<<<<< Updated upstream
      "execution_count": null,
=======
      "execution_count": 83,
>>>>>>> Stashed changes
=======
      "execution_count": 83,
>>>>>>> Stashed changes
      "metadata": {
        "id": "tEKwfYL9cDED"
      },
      "outputs": [],
      "source": [
        "# HDB Data\n",
        "hdb = aux_dict[\"hdb\"].copy()\n",
        "\n",
        "hdb.columns = hdb.columns.str.lower()\n",
        "\n",
        "for col in [\"town\",\"block\", \"address\", \"subzone\", \"planning_area\", \"region\"]:\n",
        "    if col in hdb.columns: hdb[col] = hdb[col].map(norm_key)"
      ]
    },
    {
      "cell_type": "code",
<<<<<<< Updated upstream
<<<<<<< Updated upstream
      "execution_count": null,
=======
      "execution_count": 84,
>>>>>>> Stashed changes
=======
      "execution_count": 84,
>>>>>>> Stashed changes
      "metadata": {
        "colab": {
          "base_uri": "https://localhost:8080/",
          "height": 206
        },
        "id": "WcO-mDRgiLZj",
        "outputId": "3a06e95d-2f27-4504-cfc9-e64f9ec09f33"
      },
      "outputs": [
        {
          "data": {
            "text/html": [
              "<div>\n",
              "<style scoped>\n",
              "    .dataframe tbody tr th:only-of-type {\n",
              "        vertical-align: middle;\n",
              "    }\n",
              "\n",
              "    .dataframe tbody tr th {\n",
              "        vertical-align: top;\n",
              "    }\n",
              "\n",
              "    .dataframe thead th {\n",
              "        text-align: right;\n",
              "    }\n",
              "</style>\n",
              "<table border=\"1\" class=\"dataframe\">\n",
              "  <thead>\n",
              "    <tr style=\"text-align: right;\">\n",
              "      <th></th>\n",
              "      <th>town</th>\n",
              "      <th>block</th>\n",
              "      <th>address</th>\n",
              "      <th>postal_code</th>\n",
              "      <th>latitude</th>\n",
              "      <th>longitude</th>\n",
              "      <th>max_floor</th>\n",
              "      <th>subzone</th>\n",
              "      <th>planning_area</th>\n",
              "      <th>region</th>\n",
              "    </tr>\n",
              "  </thead>\n",
              "  <tbody>\n",
              "    <tr>\n",
              "      <th>0</th>\n",
              "      <td>WOODLANDS</td>\n",
              "      <td>205</td>\n",
              "      <td>MARSILING DRIVE</td>\n",
              "      <td>730205</td>\n",
              "      <td>1.444946</td>\n",
              "      <td>103.773484</td>\n",
              "      <td>14</td>\n",
              "      <td>NORTH COAST</td>\n",
              "      <td>WOODLANDS</td>\n",
              "      <td>NORTH REGION</td>\n",
              "    </tr>\n",
              "    <tr>\n",
              "      <th>1</th>\n",
              "      <td>CLEMENTI</td>\n",
              "      <td>506</td>\n",
              "      <td>WEST COAST DRIVE</td>\n",
              "      <td>120506</td>\n",
              "      <td>1.312517</td>\n",
              "      <td>103.760867</td>\n",
              "      <td>12</td>\n",
              "      <td>CLEMENTI CENTRAL</td>\n",
              "      <td>CLEMENTI</td>\n",
              "      <td>WEST REGION</td>\n",
              "    </tr>\n",
              "    <tr>\n",
              "      <th>2</th>\n",
              "      <td>SENGKANG</td>\n",
              "      <td>267B</td>\n",
              "      <td>COMPASSVALE LINK</td>\n",
              "      <td>542267</td>\n",
              "      <td>1.383200</td>\n",
              "      <td>103.897433</td>\n",
              "      <td>17</td>\n",
              "      <td>COMPASSVALE</td>\n",
              "      <td>SENGKANG</td>\n",
              "      <td>NORTH-EAST REGION</td>\n",
              "    </tr>\n",
              "    <tr>\n",
              "      <th>3</th>\n",
              "      <td>WOODLANDS</td>\n",
              "      <td>521</td>\n",
              "      <td>WOODLANDS DRIVE 14</td>\n",
              "      <td>730521</td>\n",
              "      <td>1.433716</td>\n",
              "      <td>103.793326</td>\n",
              "      <td>12</td>\n",
              "      <td>WOODLANDS SOUTH</td>\n",
              "      <td>WOODLANDS</td>\n",
              "      <td>NORTH REGION</td>\n",
              "    </tr>\n",
              "    <tr>\n",
              "      <th>4</th>\n",
              "      <td>PASIR RIS</td>\n",
              "      <td>531</td>\n",
              "      <td>PASIR RIS DRIVE 1</td>\n",
              "      <td>510531</td>\n",
              "      <td>1.371362</td>\n",
              "      <td>103.950398</td>\n",
              "      <td>8</td>\n",
              "      <td>PASIR RIS CENTRAL</td>\n",
              "      <td>PASIR RIS</td>\n",
              "      <td>EAST REGION</td>\n",
              "    </tr>\n",
              "  </tbody>\n",
              "</table>\n",
              "</div>"
            ],
            "text/plain": [
              "        town block             address postal_code  latitude   longitude  \\\n",
              "0  WOODLANDS   205     MARSILING DRIVE      730205  1.444946  103.773484   \n",
              "1   CLEMENTI   506    WEST COAST DRIVE      120506  1.312517  103.760867   \n",
              "2   SENGKANG  267B    COMPASSVALE LINK      542267  1.383200  103.897433   \n",
              "3  WOODLANDS   521  WOODLANDS DRIVE 14      730521  1.433716  103.793326   \n",
              "4  PASIR RIS   531   PASIR RIS DRIVE 1      510531  1.371362  103.950398   \n",
              "\n",
              "   max_floor            subzone planning_area             region  \n",
              "0         14        NORTH COAST     WOODLANDS       NORTH REGION  \n",
              "1         12   CLEMENTI CENTRAL      CLEMENTI        WEST REGION  \n",
              "2         17        COMPASSVALE      SENGKANG  NORTH-EAST REGION  \n",
              "3         12    WOODLANDS SOUTH     WOODLANDS       NORTH REGION  \n",
              "4          8  PASIR RIS CENTRAL     PASIR RIS        EAST REGION  "
            ]
          },
          "execution_count": 84,
          "metadata": {},
          "output_type": "execute_result"
        }
      ],
      "source": [
        "hdb.head()"
      ]
    },
    {
      "cell_type": "code",
<<<<<<< Updated upstream
<<<<<<< Updated upstream
      "execution_count": null,
=======
      "execution_count": 85,
>>>>>>> Stashed changes
=======
      "execution_count": 85,
>>>>>>> Stashed changes
      "metadata": {
        "id": "lYwGHZOdj8Sa"
      },
      "outputs": [],
      "source": [
        "hdb_pairs = hdb[[\"town\",\"block\"]].drop_duplicates()\n",
        "train_pairs = train_df[[\"town\",\"block\"]]\n",
        "test_pairs  = test_df[[\"town\",\"block\"]]"
      ]
    },
    {
      "cell_type": "code",
<<<<<<< Updated upstream
<<<<<<< Updated upstream
      "execution_count": null,
=======
      "execution_count": 86,
>>>>>>> Stashed changes
=======
      "execution_count": 86,
>>>>>>> Stashed changes
      "metadata": {
        "colab": {
          "base_uri": "https://localhost:8080/"
        },
        "id": "0_8SGzp7lTNf",
        "outputId": "f7b8199c-b59d-4de4-b6fa-f5d070ec4373"
      },
      "outputs": [
        {
          "name": "stdout",
          "output_type": "stream",
          "text": [
            "[COVERAGE] Train matches: 162691/162691 = 1.0\n",
            "[COVERAGE] TEST matches: 50000/50000 = 1.0\n"
          ]
        }
      ],
      "source": [
        "train_cov = train_pairs.merge(hdb_pairs, on=[\"town\",\"block\"], how=\"left\", indicator=True)\n",
        "test_cov = test_pairs.merge(hdb_pairs,  on=[\"town\",\"block\"], how=\"left\", indicator=True)\n",
        "\n",
        "train_match_n = (train_cov[\"_merge\"] == \"both\").sum()\n",
        "test_match_n = (test_cov[\"_merge\"] == \"both\").sum()\n",
        "\n",
        "print(f\"[COVERAGE] Train matches: {train_match_n}/{len(train_cov)} = {train_match_n/len(train_cov)}\")\n",
        "print(f\"[COVERAGE] TEST matches: {test_match_n}/{len(test_cov)} = {test_match_n/len(test_cov)}\")"
      ]
    },
    {
      "cell_type": "code",
<<<<<<< Updated upstream
<<<<<<< Updated upstream
      "execution_count": null,
=======
      "execution_count": 87,
>>>>>>> Stashed changes
=======
      "execution_count": 87,
>>>>>>> Stashed changes
      "metadata": {
        "id": "HqjlaDkDmrA9"
      },
      "outputs": [],
      "source": [
        "hdb_unique = hdb.drop_duplicates(subset=[\"town\",\"block\"])\n",
        "\n",
        "cols_to_add = [\"latitude\",\"longitude\",\"max_floor\",\"subzone\",\"planning_area\",\"region\"]\n",
        "cols_to_add = [c for c in cols_to_add if c in hdb_unique.columns]  # guard\n",
        "\n",
        "train_df = train_df.merge(hdb_unique[[\"town\",\"block\", *cols_to_add]], on=[\"town\",\"block\"], how=\"left\")\n",
        "test_df = test_df.merge (hdb_unique[[\"town\",\"block\", *cols_to_add]], on=[\"town\",\"block\"], how=\"left\")"
      ]
    },
    {
      "cell_type": "code",
<<<<<<< Updated upstream
<<<<<<< Updated upstream
      "execution_count": null,
=======
      "execution_count": 88,
>>>>>>> Stashed changes
=======
      "execution_count": 88,
>>>>>>> Stashed changes
      "metadata": {
        "id": "rfQTzYH6lfCl"
      },
      "outputs": [],
      "source": [
        "# MRT Data\n",
        "mrt = aux_dict[\"mrt\"].copy()\n",
        "\n",
        "mrt.columns = mrt.columns.str.lower()\n",
        "\n",
        "for col in [\"code\",\"name\", \"status\", \"subzone\", \"planning_area\", \"region\"]:\n",
        "    if col in mrt.columns: mrt[col] = mrt[col].map(norm_key)"
      ]
    },
    {
      "cell_type": "code",
<<<<<<< Updated upstream
<<<<<<< Updated upstream
      "execution_count": null,
=======
      "execution_count": 89,
>>>>>>> Stashed changes
=======
      "execution_count": 89,
>>>>>>> Stashed changes
      "metadata": {
        "colab": {
          "base_uri": "https://localhost:8080/",
          "height": 423
        },
        "id": "rJlo2he5l2ys",
        "outputId": "e4597cee-47f1-4662-b824-4bf389a389ba"
      },
      "outputs": [
        {
          "data": {
            "text/html": [
              "<div>\n",
              "<style scoped>\n",
              "    .dataframe tbody tr th:only-of-type {\n",
              "        vertical-align: middle;\n",
              "    }\n",
              "\n",
              "    .dataframe tbody tr th {\n",
              "        vertical-align: top;\n",
              "    }\n",
              "\n",
              "    .dataframe thead th {\n",
              "        text-align: right;\n",
              "    }\n",
              "</style>\n",
              "<table border=\"1\" class=\"dataframe\">\n",
              "  <thead>\n",
              "    <tr style=\"text-align: right;\">\n",
              "      <th></th>\n",
              "      <th>code</th>\n",
              "      <th>name</th>\n",
              "      <th>status</th>\n",
              "      <th>latitude</th>\n",
              "      <th>longitude</th>\n",
              "      <th>subzone</th>\n",
              "      <th>planning_area</th>\n",
              "      <th>region</th>\n",
              "    </tr>\n",
              "  </thead>\n",
              "  <tbody>\n",
              "    <tr>\n",
              "      <th>0</th>\n",
              "      <td>NS10</td>\n",
              "      <td>ADMIRALTY MRT STATION</td>\n",
              "      <td>OPEN</td>\n",
              "      <td>1.440689</td>\n",
              "      <td>103.800933</td>\n",
              "      <td>WOODLANDS EAST</td>\n",
              "      <td>WOODLANDS</td>\n",
              "      <td>NORTH REGION</td>\n",
              "    </tr>\n",
              "    <tr>\n",
              "      <th>1</th>\n",
              "      <td>EW9</td>\n",
              "      <td>ALJUNIED MRT STATION</td>\n",
              "      <td>OPEN</td>\n",
              "      <td>1.316442</td>\n",
              "      <td>103.882981</td>\n",
              "      <td>ALJUNIED</td>\n",
              "      <td>GEYLANG</td>\n",
              "      <td>CENTRAL REGION</td>\n",
              "    </tr>\n",
              "    <tr>\n",
              "      <th>2</th>\n",
              "      <td>NS16</td>\n",
              "      <td>ANG MO KIO MRT STATION</td>\n",
              "      <td>OPEN</td>\n",
              "      <td>1.370017</td>\n",
              "      <td>103.849450</td>\n",
              "      <td>CHENG SAN</td>\n",
              "      <td>ANG MO KIO</td>\n",
              "      <td>NORTH-EAST REGION</td>\n",
              "    </tr>\n",
              "    <tr>\n",
              "      <th>3</th>\n",
              "      <td>CR11</td>\n",
              "      <td>ANG MO KIO MRT STATION</td>\n",
              "      <td>PLANNED</td>\n",
              "      <td>1.370017</td>\n",
              "      <td>103.849450</td>\n",
              "      <td>CHENG SAN</td>\n",
              "      <td>ANG MO KIO</td>\n",
              "      <td>NORTH-EAST REGION</td>\n",
              "    </tr>\n",
              "    <tr>\n",
              "      <th>4</th>\n",
              "      <td>CR2</td>\n",
              "      <td>AVIATION PARK MRT STATION</td>\n",
              "      <td>PLANNED</td>\n",
              "      <td>1.370000</td>\n",
              "      <td>104.003056</td>\n",
              "      <td>CHANGI AIRPORT</td>\n",
              "      <td>CHANGI</td>\n",
              "      <td>EAST REGION</td>\n",
              "    </tr>\n",
              "    <tr>\n",
              "      <th>...</th>\n",
              "      <td>...</td>\n",
              "      <td>...</td>\n",
              "      <td>...</td>\n",
              "      <td>...</td>\n",
              "      <td>...</td>\n",
              "      <td>...</td>\n",
              "      <td>...</td>\n",
              "      <td>...</td>\n",
              "    </tr>\n",
              "    <tr>\n",
              "      <th>238</th>\n",
              "      <td>NE11</td>\n",
              "      <td>WOODLEIGH MRT STATION</td>\n",
              "      <td>OPEN</td>\n",
              "      <td>1.339167</td>\n",
              "      <td>103.870833</td>\n",
              "      <td>BIDADARI</td>\n",
              "      <td>TOA PAYOH</td>\n",
              "      <td>CENTRAL REGION</td>\n",
              "    </tr>\n",
              "    <tr>\n",
              "      <th>239</th>\n",
              "      <td>DT36</td>\n",
              "      <td>XILIN MRT STATION</td>\n",
              "      <td>PLANNED</td>\n",
              "      <td>1.328889</td>\n",
              "      <td>103.965000</td>\n",
              "      <td>XILIN</td>\n",
              "      <td>TAMPINES</td>\n",
              "      <td>EAST REGION</td>\n",
              "    </tr>\n",
              "    <tr>\n",
              "      <th>240</th>\n",
              "      <td>NS5</td>\n",
              "      <td>YEW TEE MRT STATION</td>\n",
              "      <td>OPEN</td>\n",
              "      <td>1.396986</td>\n",
              "      <td>103.747239</td>\n",
              "      <td>YEW TEE</td>\n",
              "      <td>CHOA CHU KANG</td>\n",
              "      <td>WEST REGION</td>\n",
              "    </tr>\n",
              "    <tr>\n",
              "      <th>241</th>\n",
              "      <td>NS15</td>\n",
              "      <td>YIO CHU KANG MRT STATION</td>\n",
              "      <td>OPEN</td>\n",
              "      <td>1.381906</td>\n",
              "      <td>103.844817</td>\n",
              "      <td>YIO CHU KANG</td>\n",
              "      <td>ANG MO KIO</td>\n",
              "      <td>NORTH-EAST REGION</td>\n",
              "    </tr>\n",
              "    <tr>\n",
              "      <th>242</th>\n",
              "      <td>NS13</td>\n",
              "      <td>YISHUN MRT STATION</td>\n",
              "      <td>OPEN</td>\n",
              "      <td>1.429464</td>\n",
              "      <td>103.835239</td>\n",
              "      <td>YISHUN WEST</td>\n",
              "      <td>YISHUN</td>\n",
              "      <td>NORTH REGION</td>\n",
              "    </tr>\n",
              "  </tbody>\n",
              "</table>\n",
              "<p>243 rows × 8 columns</p>\n",
              "</div>"
            ],
            "text/plain": [
              "     code                       name   status  latitude   longitude  \\\n",
              "0    NS10      ADMIRALTY MRT STATION     OPEN  1.440689  103.800933   \n",
              "1     EW9       ALJUNIED MRT STATION     OPEN  1.316442  103.882981   \n",
              "2    NS16     ANG MO KIO MRT STATION     OPEN  1.370017  103.849450   \n",
              "3    CR11     ANG MO KIO MRT STATION  PLANNED  1.370017  103.849450   \n",
              "4     CR2  AVIATION PARK MRT STATION  PLANNED  1.370000  104.003056   \n",
              "..    ...                        ...      ...       ...         ...   \n",
              "238  NE11      WOODLEIGH MRT STATION     OPEN  1.339167  103.870833   \n",
              "239  DT36          XILIN MRT STATION  PLANNED  1.328889  103.965000   \n",
              "240   NS5        YEW TEE MRT STATION     OPEN  1.396986  103.747239   \n",
              "241  NS15   YIO CHU KANG MRT STATION     OPEN  1.381906  103.844817   \n",
              "242  NS13         YISHUN MRT STATION     OPEN  1.429464  103.835239   \n",
              "\n",
              "            subzone  planning_area             region  \n",
              "0    WOODLANDS EAST      WOODLANDS       NORTH REGION  \n",
              "1          ALJUNIED        GEYLANG     CENTRAL REGION  \n",
              "2         CHENG SAN     ANG MO KIO  NORTH-EAST REGION  \n",
              "3         CHENG SAN     ANG MO KIO  NORTH-EAST REGION  \n",
              "4    CHANGI AIRPORT         CHANGI        EAST REGION  \n",
              "..              ...            ...                ...  \n",
              "238        BIDADARI      TOA PAYOH     CENTRAL REGION  \n",
              "239           XILIN       TAMPINES        EAST REGION  \n",
              "240         YEW TEE  CHOA CHU KANG        WEST REGION  \n",
              "241    YIO CHU KANG     ANG MO KIO  NORTH-EAST REGION  \n",
              "242     YISHUN WEST         YISHUN       NORTH REGION  \n",
              "\n",
              "[243 rows x 8 columns]"
            ]
          },
          "execution_count": 89,
          "metadata": {},
          "output_type": "execute_result"
        }
      ],
      "source": [
        "mrt"
      ]
    },
    {
      "cell_type": "code",
<<<<<<< Updated upstream
<<<<<<< Updated upstream
      "execution_count": null,
=======
      "execution_count": 90,
>>>>>>> Stashed changes
=======
      "execution_count": 90,
>>>>>>> Stashed changes
      "metadata": {
        "colab": {
          "base_uri": "https://localhost:8080/"
        },
        "id": "4GxOWDj-mZYi",
        "outputId": "51de33db-af70-45ab-868a-2d14dcb61f26"
      },
      "outputs": [
        {
          "name": "stdout",
          "output_type": "stream",
          "text": [
            "['OPEN' 'PLANNED']\n"
          ]
        }
      ],
      "source": [
        "print(mrt['status'].unique())\n",
        "# Open and Planned MRT proximity features\n",
        "\n",
        "from sklearn.neighbors import BallTree\n",
        "\n",
        "mrt_open = mrt[mrt[\"status\"] == \"OPEN\"].copy()\n",
        "mrt_planned = mrt[mrt[\"status\"] == \"PLANNED\"].copy()\n",
        "\n",
        "R = 6371000.0\n",
        "def to_rad(df): return np.deg2rad(df[[\"latitude\", \"longitude\"]].to_numpy(dtype=float))\n",
        "\n",
        "tree_open = BallTree(to_rad(mrt_open), metric=\"haversine\")\n",
        "tree_planned = BallTree(to_rad(mrt_planned), metric=\"haversine\")"
      ]
    },
    {
      "cell_type": "code",
<<<<<<< Updated upstream
<<<<<<< Updated upstream
      "execution_count": null,
=======
      "execution_count": 91,
>>>>>>> Stashed changes
=======
      "execution_count": 91,
>>>>>>> Stashed changes
      "metadata": {
        "id": "-LHnUHb5p5C_"
      },
      "outputs": [],
      "source": [
        "def add_mrt_features(df, radii_open=(500,1000,2000), radii_plan=(500,1000,2000)):\n",
        "    idx = df[[\"latitude\",\"longitude\"]].dropna().index\n",
        "    X = np.deg2rad(df.loc[idx, [\"latitude\",\"longitude\"]].to_numpy(dtype=float))\n",
        "\n",
        "    # OPEN: nearest + counts\n",
        "    if tree_open is not None and len(idx):\n",
        "        dist, _ = tree_open.query(X, k=1)\n",
        "        df.loc[idx, \"mrt_open_nearest_m\"] = dist[:,0] * R\n",
        "        for r in radii_open:\n",
        "            df.loc[idx, f\"mrt_open_within_{r}m\"] = tree_open.query_radius(X, r/R, count_only=True)\n",
        "    else:\n",
        "        df[\"mrt_open_nearest_m\"] = np.nan\n",
        "        for r in radii_open: df[f\"mrt_open_within_{r}m\"] = 0\n",
        "\n",
        "    # PLANNED: nearest + counts\n",
        "    if tree_planned is not None and len(idx):\n",
        "        dist, _ = tree_planned.query(X, k=1)\n",
        "        df.loc[idx, \"mrt_plan_nearest_m\"] = dist[:,0] * R\n",
        "        for r in radii_plan:\n",
        "            df.loc[idx, f\"mrt_plan_within_{r}m\"] = tree_planned.query_radius(X, r/R, count_only=True)\n",
        "    else:\n",
        "        df[\"mrt_plan_nearest_m\"] = np.nan\n",
        "        for r in radii_plan: df[f\"mrt_plan_within_{r}m\"] = 0\n",
        "\n",
        "    # Comparative signals\n",
        "    df[\"mrt_any_nearest_m\"] = np.nanmin(\n",
        "        np.vstack([df[\"mrt_open_nearest_m\"].to_numpy(dtype=float),\n",
        "                   df[\"mrt_plan_nearest_m\"].to_numpy(dtype=float)]),\n",
        "        axis=0\n",
        "    )\n",
        "    df[\"mrt_plan_closer_than_open\"] = (\n",
        "        (df[\"mrt_plan_nearest_m\"] < df[\"mrt_open_nearest_m\"]).astype(\"Int64\")\n",
        "    )\n",
        "\n",
        "    # fill NA counts for rows without coords\n",
        "    for c in [col for col in df.columns if col.startswith((\"mrt_open_within_\",\"mrt_plan_within_\"))]:\n",
        "        df[c] = df[c].fillna(0).astype(int)\n",
        "\n",
        "    return df\n",
        "\n",
        "train_df = add_mrt_features(train_df)\n",
        "test_df = add_mrt_features(test_df)"
      ]
    },
    {
      "cell_type": "code",
<<<<<<< Updated upstream
<<<<<<< Updated upstream
      "execution_count": null,
=======
      "execution_count": 92,
>>>>>>> Stashed changes
=======
      "execution_count": 92,
>>>>>>> Stashed changes
      "metadata": {
        "colab": {
          "base_uri": "https://localhost:8080/",
          "height": 617
        },
        "id": "dU-kuXwxqRNC",
        "outputId": "23e61a4d-ef88-4bbe-8771-09d9482279e7"
      },
      "outputs": [
        {
          "data": {
            "text/html": [
              "<div>\n",
              "<style scoped>\n",
              "    .dataframe tbody tr th:only-of-type {\n",
              "        vertical-align: middle;\n",
              "    }\n",
              "\n",
              "    .dataframe tbody tr th {\n",
              "        vertical-align: top;\n",
              "    }\n",
              "\n",
              "    .dataframe thead th {\n",
              "        text-align: right;\n",
              "    }\n",
              "</style>\n",
              "<table border=\"1\" class=\"dataframe\">\n",
              "  <thead>\n",
              "    <tr style=\"text-align: right;\">\n",
              "      <th></th>\n",
              "      <th>month</th>\n",
              "      <th>town</th>\n",
              "      <th>flat_type</th>\n",
              "      <th>block</th>\n",
              "      <th>street</th>\n",
              "      <th>floor_mid</th>\n",
              "      <th>floor_area_sqm</th>\n",
              "      <th>flat_model</th>\n",
              "      <th>lease_commence_date</th>\n",
              "      <th>resale_price</th>\n",
              "      <th>...</th>\n",
              "      <th>mrt_open_nearest_m</th>\n",
              "      <th>mrt_open_within_500m</th>\n",
              "      <th>mrt_open_within_1000m</th>\n",
              "      <th>mrt_open_within_2000m</th>\n",
              "      <th>mrt_plan_nearest_m</th>\n",
              "      <th>mrt_plan_within_500m</th>\n",
              "      <th>mrt_plan_within_1000m</th>\n",
              "      <th>mrt_plan_within_2000m</th>\n",
              "      <th>mrt_any_nearest_m</th>\n",
              "      <th>mrt_plan_closer_than_open</th>\n",
              "    </tr>\n",
              "  </thead>\n",
              "  <tbody>\n",
              "    <tr>\n",
              "      <th>0</th>\n",
              "      <td>2020-10-01</td>\n",
              "      <td>WOODLANDS</td>\n",
              "      <td>4 ROOM</td>\n",
              "      <td>681B</td>\n",
              "      <td>WOODLANDS DRIVE 62</td>\n",
              "      <td>8.0</td>\n",
              "      <td>102.0</td>\n",
              "      <td>PREMIUM APARTMENT</td>\n",
              "      <td>2000</td>\n",
              "      <td>420000.0</td>\n",
              "      <td>...</td>\n",
              "      <td>306.013744</td>\n",
              "      <td>1</td>\n",
              "      <td>1</td>\n",
              "      <td>4</td>\n",
              "      <td>2269.847356</td>\n",
              "      <td>0</td>\n",
              "      <td>0</td>\n",
              "      <td>0</td>\n",
              "      <td>306.013744</td>\n",
              "      <td>0</td>\n",
              "    </tr>\n",
              "    <tr>\n",
              "      <th>1</th>\n",
              "      <td>2021-07-01</td>\n",
              "      <td>BISHAN</td>\n",
              "      <td>4 ROOM</td>\n",
              "      <td>264</td>\n",
              "      <td>BISHAN STREET 24</td>\n",
              "      <td>8.0</td>\n",
              "      <td>104.0</td>\n",
              "      <td>MODEL A</td>\n",
              "      <td>1992</td>\n",
              "      <td>585000.0</td>\n",
              "      <td>...</td>\n",
              "      <td>1000.891332</td>\n",
              "      <td>0</td>\n",
              "      <td>0</td>\n",
              "      <td>7</td>\n",
              "      <td>786.297948</td>\n",
              "      <td>0</td>\n",
              "      <td>1</td>\n",
              "      <td>3</td>\n",
              "      <td>786.297948</td>\n",
              "      <td>1</td>\n",
              "    </tr>\n",
              "    <tr>\n",
              "      <th>2</th>\n",
              "      <td>2021-05-01</td>\n",
              "      <td>BUKIT PANJANG</td>\n",
              "      <td>4 ROOM</td>\n",
              "      <td>520</td>\n",
              "      <td>JELAPANG ROAD</td>\n",
              "      <td>20.0</td>\n",
              "      <td>102.0</td>\n",
              "      <td>MODEL A</td>\n",
              "      <td>1998</td>\n",
              "      <td>450000.0</td>\n",
              "      <td>...</td>\n",
              "      <td>1052.540106</td>\n",
              "      <td>0</td>\n",
              "      <td>0</td>\n",
              "      <td>3</td>\n",
              "      <td>2144.006007</td>\n",
              "      <td>0</td>\n",
              "      <td>0</td>\n",
              "      <td>0</td>\n",
              "      <td>1052.540106</td>\n",
              "      <td>0</td>\n",
              "    </tr>\n",
              "    <tr>\n",
              "      <th>3</th>\n",
              "      <td>2021-08-01</td>\n",
              "      <td>PUNGGOL</td>\n",
              "      <td>4 ROOM</td>\n",
              "      <td>121B</td>\n",
              "      <td>EDGEDALE PLAINS</td>\n",
              "      <td>17.0</td>\n",
              "      <td>93.0</td>\n",
              "      <td>MODEL A</td>\n",
              "      <td>2017</td>\n",
              "      <td>465000.0</td>\n",
              "      <td>...</td>\n",
              "      <td>872.296018</td>\n",
              "      <td>0</td>\n",
              "      <td>1</td>\n",
              "      <td>6</td>\n",
              "      <td>872.296018</td>\n",
              "      <td>0</td>\n",
              "      <td>1</td>\n",
              "      <td>1</td>\n",
              "      <td>872.296018</td>\n",
              "      <td>0</td>\n",
              "    </tr>\n",
              "    <tr>\n",
              "      <th>4</th>\n",
              "      <td>2023-05-01</td>\n",
              "      <td>HOUGANG</td>\n",
              "      <td>5 ROOM</td>\n",
              "      <td>997B</td>\n",
              "      <td>BUANGKOK CRESCENT</td>\n",
              "      <td>11.0</td>\n",
              "      <td>113.0</td>\n",
              "      <td>IMPROVED</td>\n",
              "      <td>2018</td>\n",
              "      <td>710000.0</td>\n",
              "      <td>...</td>\n",
              "      <td>1342.862156</td>\n",
              "      <td>0</td>\n",
              "      <td>0</td>\n",
              "      <td>3</td>\n",
              "      <td>1912.846578</td>\n",
              "      <td>0</td>\n",
              "      <td>0</td>\n",
              "      <td>1</td>\n",
              "      <td>1342.862156</td>\n",
              "      <td>0</td>\n",
              "    </tr>\n",
              "    <tr>\n",
              "      <th>...</th>\n",
              "      <td>...</td>\n",
              "      <td>...</td>\n",
              "      <td>...</td>\n",
              "      <td>...</td>\n",
              "      <td>...</td>\n",
              "      <td>...</td>\n",
              "      <td>...</td>\n",
              "      <td>...</td>\n",
              "      <td>...</td>\n",
              "      <td>...</td>\n",
              "      <td>...</td>\n",
              "      <td>...</td>\n",
              "      <td>...</td>\n",
              "      <td>...</td>\n",
              "      <td>...</td>\n",
              "      <td>...</td>\n",
              "      <td>...</td>\n",
              "      <td>...</td>\n",
              "      <td>...</td>\n",
              "      <td>...</td>\n",
              "      <td>...</td>\n",
              "    </tr>\n",
              "    <tr>\n",
              "      <th>162686</th>\n",
              "      <td>2017-07-01</td>\n",
              "      <td>HOUGANG</td>\n",
              "      <td>4 ROOM</td>\n",
              "      <td>708</td>\n",
              "      <td>HOUGANG AVENUE 2</td>\n",
              "      <td>2.0</td>\n",
              "      <td>91.0</td>\n",
              "      <td>NEW GENERATION</td>\n",
              "      <td>1985</td>\n",
              "      <td>335000.0</td>\n",
              "      <td>...</td>\n",
              "      <td>627.321503</td>\n",
              "      <td>0</td>\n",
              "      <td>2</td>\n",
              "      <td>3</td>\n",
              "      <td>627.321503</td>\n",
              "      <td>0</td>\n",
              "      <td>1</td>\n",
              "      <td>3</td>\n",
              "      <td>627.321503</td>\n",
              "      <td>0</td>\n",
              "    </tr>\n",
              "    <tr>\n",
              "      <th>162687</th>\n",
              "      <td>2020-09-01</td>\n",
              "      <td>PASIR RIS</td>\n",
              "      <td>4 ROOM</td>\n",
              "      <td>634</td>\n",
              "      <td>PASIR RIS DRIVE 1</td>\n",
              "      <td>5.0</td>\n",
              "      <td>104.0</td>\n",
              "      <td>MODEL A</td>\n",
              "      <td>1995</td>\n",
              "      <td>388000.0</td>\n",
              "      <td>...</td>\n",
              "      <td>1125.824511</td>\n",
              "      <td>0</td>\n",
              "      <td>0</td>\n",
              "      <td>1</td>\n",
              "      <td>759.006005</td>\n",
              "      <td>0</td>\n",
              "      <td>2</td>\n",
              "      <td>4</td>\n",
              "      <td>759.006005</td>\n",
              "      <td>1</td>\n",
              "    </tr>\n",
              "    <tr>\n",
              "      <th>162688</th>\n",
              "      <td>2017-10-01</td>\n",
              "      <td>GEYLANG</td>\n",
              "      <td>4 ROOM</td>\n",
              "      <td>319</td>\n",
              "      <td>UBI AVENUE 1</td>\n",
              "      <td>11.0</td>\n",
              "      <td>84.0</td>\n",
              "      <td>SIMPLIFIED</td>\n",
              "      <td>1985</td>\n",
              "      <td>373000.0</td>\n",
              "      <td>...</td>\n",
              "      <td>443.281824</td>\n",
              "      <td>1</td>\n",
              "      <td>3</td>\n",
              "      <td>10</td>\n",
              "      <td>3811.017617</td>\n",
              "      <td>0</td>\n",
              "      <td>0</td>\n",
              "      <td>0</td>\n",
              "      <td>443.281824</td>\n",
              "      <td>0</td>\n",
              "    </tr>\n",
              "    <tr>\n",
              "      <th>162689</th>\n",
              "      <td>2020-08-01</td>\n",
              "      <td>SENGKANG</td>\n",
              "      <td>5 ROOM</td>\n",
              "      <td>290B</td>\n",
              "      <td>COMPASSVALE CRESCENT</td>\n",
              "      <td>2.0</td>\n",
              "      <td>110.0</td>\n",
              "      <td>IMPROVED</td>\n",
              "      <td>2001</td>\n",
              "      <td>420000.0</td>\n",
              "      <td>...</td>\n",
              "      <td>637.643152</td>\n",
              "      <td>0</td>\n",
              "      <td>2</td>\n",
              "      <td>6</td>\n",
              "      <td>2214.204658</td>\n",
              "      <td>0</td>\n",
              "      <td>0</td>\n",
              "      <td>0</td>\n",
              "      <td>637.643152</td>\n",
              "      <td>0</td>\n",
              "    </tr>\n",
              "    <tr>\n",
              "      <th>162690</th>\n",
              "      <td>2021-03-01</td>\n",
              "      <td>HOUGANG</td>\n",
              "      <td>4 ROOM</td>\n",
              "      <td>512</td>\n",
              "      <td>HOUGANG AVENUE 10</td>\n",
              "      <td>2.0</td>\n",
              "      <td>84.0</td>\n",
              "      <td>SIMPLIFIED</td>\n",
              "      <td>1987</td>\n",
              "      <td>355000.0</td>\n",
              "      <td>...</td>\n",
              "      <td>400.617113</td>\n",
              "      <td>1</td>\n",
              "      <td>1</td>\n",
              "      <td>3</td>\n",
              "      <td>400.617113</td>\n",
              "      <td>1</td>\n",
              "      <td>1</td>\n",
              "      <td>3</td>\n",
              "      <td>400.617113</td>\n",
              "      <td>0</td>\n",
              "    </tr>\n",
              "  </tbody>\n",
              "</table>\n",
              "<p>162691 rows × 35 columns</p>\n",
              "</div>"
            ],
            "text/plain": [
              "            month           town flat_type block                street  \\\n",
              "0      2020-10-01      WOODLANDS    4 ROOM  681B    WOODLANDS DRIVE 62   \n",
              "1      2021-07-01         BISHAN    4 ROOM   264      BISHAN STREET 24   \n",
              "2      2021-05-01  BUKIT PANJANG    4 ROOM   520         JELAPANG ROAD   \n",
              "3      2021-08-01        PUNGGOL    4 ROOM  121B       EDGEDALE PLAINS   \n",
              "4      2023-05-01        HOUGANG    5 ROOM  997B     BUANGKOK CRESCENT   \n",
              "...           ...            ...       ...   ...                   ...   \n",
              "162686 2017-07-01        HOUGANG    4 ROOM   708      HOUGANG AVENUE 2   \n",
              "162687 2020-09-01      PASIR RIS    4 ROOM   634     PASIR RIS DRIVE 1   \n",
              "162688 2017-10-01        GEYLANG    4 ROOM   319          UBI AVENUE 1   \n",
              "162689 2020-08-01       SENGKANG    5 ROOM  290B  COMPASSVALE CRESCENT   \n",
              "162690 2021-03-01        HOUGANG    4 ROOM   512     HOUGANG AVENUE 10   \n",
              "\n",
              "        floor_mid  floor_area_sqm         flat_model  lease_commence_date  \\\n",
              "0             8.0           102.0  PREMIUM APARTMENT                 2000   \n",
              "1             8.0           104.0            MODEL A                 1992   \n",
              "2            20.0           102.0            MODEL A                 1998   \n",
              "3            17.0            93.0            MODEL A                 2017   \n",
              "4            11.0           113.0           IMPROVED                 2018   \n",
              "...           ...             ...                ...                  ...   \n",
              "162686        2.0            91.0     NEW GENERATION                 1985   \n",
              "162687        5.0           104.0            MODEL A                 1995   \n",
              "162688       11.0            84.0         SIMPLIFIED                 1985   \n",
              "162689        2.0           110.0           IMPROVED                 2001   \n",
              "162690        2.0            84.0         SIMPLIFIED                 1987   \n",
              "\n",
              "        resale_price  ...  mrt_open_nearest_m  mrt_open_within_500m  \\\n",
              "0           420000.0  ...          306.013744                     1   \n",
              "1           585000.0  ...         1000.891332                     0   \n",
              "2           450000.0  ...         1052.540106                     0   \n",
              "3           465000.0  ...          872.296018                     0   \n",
              "4           710000.0  ...         1342.862156                     0   \n",
              "...              ...  ...                 ...                   ...   \n",
              "162686      335000.0  ...          627.321503                     0   \n",
              "162687      388000.0  ...         1125.824511                     0   \n",
              "162688      373000.0  ...          443.281824                     1   \n",
              "162689      420000.0  ...          637.643152                     0   \n",
              "162690      355000.0  ...          400.617113                     1   \n",
              "\n",
              "        mrt_open_within_1000m  mrt_open_within_2000m  mrt_plan_nearest_m  \\\n",
              "0                           1                      4         2269.847356   \n",
              "1                           0                      7          786.297948   \n",
              "2                           0                      3         2144.006007   \n",
              "3                           1                      6          872.296018   \n",
              "4                           0                      3         1912.846578   \n",
              "...                       ...                    ...                 ...   \n",
              "162686                      2                      3          627.321503   \n",
              "162687                      0                      1          759.006005   \n",
              "162688                      3                     10         3811.017617   \n",
              "162689                      2                      6         2214.204658   \n",
              "162690                      1                      3          400.617113   \n",
              "\n",
              "        mrt_plan_within_500m  mrt_plan_within_1000m  mrt_plan_within_2000m  \\\n",
              "0                          0                      0                      0   \n",
              "1                          0                      1                      3   \n",
              "2                          0                      0                      0   \n",
              "3                          0                      1                      1   \n",
              "4                          0                      0                      1   \n",
              "...                      ...                    ...                    ...   \n",
              "162686                     0                      1                      3   \n",
              "162687                     0                      2                      4   \n",
              "162688                     0                      0                      0   \n",
              "162689                     0                      0                      0   \n",
              "162690                     1                      1                      3   \n",
              "\n",
              "        mrt_any_nearest_m  mrt_plan_closer_than_open  \n",
              "0              306.013744                          0  \n",
              "1              786.297948                          1  \n",
              "2             1052.540106                          0  \n",
              "3              872.296018                          0  \n",
              "4             1342.862156                          0  \n",
              "...                   ...                        ...  \n",
              "162686         627.321503                          0  \n",
              "162687         759.006005                          1  \n",
              "162688         443.281824                          0  \n",
              "162689         637.643152                          0  \n",
              "162690         400.617113                          0  \n",
              "\n",
              "[162691 rows x 35 columns]"
            ]
          },
          "execution_count": 92,
          "metadata": {},
          "output_type": "execute_result"
        }
      ],
      "source": [
        "train_df"
      ]
    },
    {
      "cell_type": "code",
<<<<<<< Updated upstream
<<<<<<< Updated upstream
      "execution_count": null,
=======
      "execution_count": 93,
>>>>>>> Stashed changes
=======
      "execution_count": 93,
>>>>>>> Stashed changes
      "metadata": {
        "id": "2H50AOHev_g0"
      },
      "outputs": [],
      "source": [
        "# School Data\n",
        "pri = aux_dict[\"pri\"].copy()\n",
        "sec = aux_dict[\"sec\"].copy()\n",
        "\n",
        "pri.columns = pri.columns.str.lower()\n",
        "sec.columns = sec.columns.str.lower()\n",
        "\n",
        "for col in [\"name\",\"street\", \"subzone\", \"planning_area\", \"region\"]:\n",
        "    if col in pri.columns: pri[col] = pri[col].map(norm_key)\n",
        "    if col in sec.columns: sec[col] = sec[col].map(norm_key)"
      ]
    },
    {
      "cell_type": "code",
<<<<<<< Updated upstream
<<<<<<< Updated upstream
      "execution_count": null,
=======
      "execution_count": 94,
>>>>>>> Stashed changes
=======
      "execution_count": 94,
>>>>>>> Stashed changes
      "metadata": {
        "colab": {
          "base_uri": "https://localhost:8080/",
          "height": 206
        },
        "id": "qIAEZnM9wZqp",
        "outputId": "723ef44b-eb6a-49fe-c741-70c50546f35b"
      },
      "outputs": [
        {
          "data": {
            "text/html": [
              "<div>\n",
              "<style scoped>\n",
              "    .dataframe tbody tr th:only-of-type {\n",
              "        vertical-align: middle;\n",
              "    }\n",
              "\n",
              "    .dataframe tbody tr th {\n",
              "        vertical-align: top;\n",
              "    }\n",
              "\n",
              "    .dataframe thead th {\n",
              "        text-align: right;\n",
              "    }\n",
              "</style>\n",
              "<table border=\"1\" class=\"dataframe\">\n",
              "  <thead>\n",
              "    <tr style=\"text-align: right;\">\n",
              "      <th></th>\n",
              "      <th>name</th>\n",
              "      <th>street</th>\n",
              "      <th>postal_code</th>\n",
              "      <th>latitude</th>\n",
              "      <th>longitude</th>\n",
              "      <th>subzone</th>\n",
              "      <th>planning_area</th>\n",
              "      <th>region</th>\n",
              "    </tr>\n",
              "  </thead>\n",
              "  <tbody>\n",
              "    <tr>\n",
              "      <th>0</th>\n",
              "      <td>ADMIRALTY PRIMARY SCHOOL</td>\n",
              "      <td>WOODLANDS CIRCLE</td>\n",
              "      <td>738907</td>\n",
              "      <td>1.442635</td>\n",
              "      <td>103.800040</td>\n",
              "      <td>WOODLANDS EAST</td>\n",
              "      <td>WOODLANDS</td>\n",
              "      <td>NORTH REGION</td>\n",
              "    </tr>\n",
              "    <tr>\n",
              "      <th>1</th>\n",
              "      <td>AHMAD IBRAHIM PRIMARY SCHOOL</td>\n",
              "      <td>YISHUN STREET 11</td>\n",
              "      <td>768643</td>\n",
              "      <td>1.433153</td>\n",
              "      <td>103.832942</td>\n",
              "      <td>YISHUN WEST</td>\n",
              "      <td>YISHUN</td>\n",
              "      <td>NORTH REGION</td>\n",
              "    </tr>\n",
              "    <tr>\n",
              "      <th>2</th>\n",
              "      <td>AI TONG SCHOOL</td>\n",
              "      <td>BRIGHT HILL DRIVE</td>\n",
              "      <td>579646</td>\n",
              "      <td>1.360583</td>\n",
              "      <td>103.833020</td>\n",
              "      <td>UPPER THOMSON</td>\n",
              "      <td>BISHAN</td>\n",
              "      <td>CENTRAL REGION</td>\n",
              "    </tr>\n",
              "    <tr>\n",
              "      <th>3</th>\n",
              "      <td>ALEXANDRA PRIMARY SCHOOL</td>\n",
              "      <td>PRINCE CHARLES CRESCENT</td>\n",
              "      <td>159016</td>\n",
              "      <td>1.291334</td>\n",
              "      <td>103.824425</td>\n",
              "      <td>ALEXANDRA NORTH</td>\n",
              "      <td>BUKIT MERAH</td>\n",
              "      <td>CENTRAL REGION</td>\n",
              "    </tr>\n",
              "    <tr>\n",
              "      <th>4</th>\n",
              "      <td>ANCHOR GREEN PRIMARY SCHOOL</td>\n",
              "      <td>ANCHORVALE DRIVE</td>\n",
              "      <td>544969</td>\n",
              "      <td>1.390370</td>\n",
              "      <td>103.887165</td>\n",
              "      <td>ANCHORVALE</td>\n",
              "      <td>SENGKANG</td>\n",
              "      <td>NORTH-EAST REGION</td>\n",
              "    </tr>\n",
              "  </tbody>\n",
              "</table>\n",
              "</div>"
            ],
            "text/plain": [
              "                           name                   street  postal_code  \\\n",
              "0      ADMIRALTY PRIMARY SCHOOL         WOODLANDS CIRCLE       738907   \n",
              "1  AHMAD IBRAHIM PRIMARY SCHOOL         YISHUN STREET 11       768643   \n",
              "2                AI TONG SCHOOL        BRIGHT HILL DRIVE       579646   \n",
              "3      ALEXANDRA PRIMARY SCHOOL  PRINCE CHARLES CRESCENT       159016   \n",
              "4   ANCHOR GREEN PRIMARY SCHOOL         ANCHORVALE DRIVE       544969   \n",
              "\n",
              "   latitude   longitude          subzone planning_area             region  \n",
              "0  1.442635  103.800040   WOODLANDS EAST     WOODLANDS       NORTH REGION  \n",
              "1  1.433153  103.832942      YISHUN WEST        YISHUN       NORTH REGION  \n",
              "2  1.360583  103.833020    UPPER THOMSON        BISHAN     CENTRAL REGION  \n",
              "3  1.291334  103.824425  ALEXANDRA NORTH   BUKIT MERAH     CENTRAL REGION  \n",
              "4  1.390370  103.887165       ANCHORVALE      SENGKANG  NORTH-EAST REGION  "
            ]
          },
          "execution_count": 94,
          "metadata": {},
          "output_type": "execute_result"
        }
      ],
      "source": [
        "pri.head()"
      ]
    },
    {
      "cell_type": "code",
<<<<<<< Updated upstream
<<<<<<< Updated upstream
      "execution_count": null,
=======
      "execution_count": 95,
>>>>>>> Stashed changes
=======
      "execution_count": 95,
>>>>>>> Stashed changes
      "metadata": {
        "colab": {
          "base_uri": "https://localhost:8080/",
          "height": 206
        },
        "id": "YvLhHKZJwjER",
        "outputId": "5354c2a1-8ecb-41b1-f727-4d32dbe19579"
      },
      "outputs": [
        {
          "data": {
            "text/html": [
              "<div>\n",
              "<style scoped>\n",
              "    .dataframe tbody tr th:only-of-type {\n",
              "        vertical-align: middle;\n",
              "    }\n",
              "\n",
              "    .dataframe tbody tr th {\n",
              "        vertical-align: top;\n",
              "    }\n",
              "\n",
              "    .dataframe thead th {\n",
              "        text-align: right;\n",
              "    }\n",
              "</style>\n",
              "<table border=\"1\" class=\"dataframe\">\n",
              "  <thead>\n",
              "    <tr style=\"text-align: right;\">\n",
              "      <th></th>\n",
              "      <th>name</th>\n",
              "      <th>street</th>\n",
              "      <th>postal_code</th>\n",
              "      <th>latitude</th>\n",
              "      <th>longitude</th>\n",
              "      <th>subzone</th>\n",
              "      <th>planning_area</th>\n",
              "      <th>region</th>\n",
              "    </tr>\n",
              "  </thead>\n",
              "  <tbody>\n",
              "    <tr>\n",
              "      <th>0</th>\n",
              "      <td>ADMIRALTY SECONDARY SCHOOL</td>\n",
              "      <td>WOODLANDS CRESCENT</td>\n",
              "      <td>737916</td>\n",
              "      <td>1.445891</td>\n",
              "      <td>103.802398</td>\n",
              "      <td>WOODLANDS EAST</td>\n",
              "      <td>WOODLANDS</td>\n",
              "      <td>NORTH REGION</td>\n",
              "    </tr>\n",
              "    <tr>\n",
              "      <th>1</th>\n",
              "      <td>AHMAD IBRAHIM SECONDARY SCHOOL</td>\n",
              "      <td>YISHUN AVENUE 7</td>\n",
              "      <td>768928</td>\n",
              "      <td>1.436060</td>\n",
              "      <td>103.829719</td>\n",
              "      <td>YISHUN WEST</td>\n",
              "      <td>YISHUN</td>\n",
              "      <td>NORTH REGION</td>\n",
              "    </tr>\n",
              "    <tr>\n",
              "      <th>2</th>\n",
              "      <td>ANDERSON SECONDARY SCHOOL</td>\n",
              "      <td>ANG MO KIO STREET 53</td>\n",
              "      <td>569206</td>\n",
              "      <td>1.374340</td>\n",
              "      <td>103.851554</td>\n",
              "      <td>CHENG SAN</td>\n",
              "      <td>ANG MO KIO</td>\n",
              "      <td>NORTH-EAST REGION</td>\n",
              "    </tr>\n",
              "    <tr>\n",
              "      <th>3</th>\n",
              "      <td>ANGLICAN HIGH SCHOOL</td>\n",
              "      <td>UPPER CHANGI ROAD</td>\n",
              "      <td>487012</td>\n",
              "      <td>1.331181</td>\n",
              "      <td>103.941853</td>\n",
              "      <td>BEDOK NORTH</td>\n",
              "      <td>BEDOK</td>\n",
              "      <td>EAST REGION</td>\n",
              "    </tr>\n",
              "    <tr>\n",
              "      <th>4</th>\n",
              "      <td>ANGLO-CHINESE SCHOOL (BARKER ROAD)</td>\n",
              "      <td>BARKER ROAD</td>\n",
              "      <td>309919</td>\n",
              "      <td>1.319616</td>\n",
              "      <td>103.835773</td>\n",
              "      <td>MALCOLM</td>\n",
              "      <td>NOVENA</td>\n",
              "      <td>CENTRAL REGION</td>\n",
              "    </tr>\n",
              "  </tbody>\n",
              "</table>\n",
              "</div>"
            ],
            "text/plain": [
              "                                 name                street postal_code  \\\n",
              "0          ADMIRALTY SECONDARY SCHOOL    WOODLANDS CRESCENT      737916   \n",
              "1      AHMAD IBRAHIM SECONDARY SCHOOL       YISHUN AVENUE 7      768928   \n",
              "2           ANDERSON SECONDARY SCHOOL  ANG MO KIO STREET 53      569206   \n",
              "3                ANGLICAN HIGH SCHOOL     UPPER CHANGI ROAD      487012   \n",
              "4  ANGLO-CHINESE SCHOOL (BARKER ROAD)           BARKER ROAD      309919   \n",
              "\n",
              "   latitude   longitude         subzone planning_area             region  \n",
              "0  1.445891  103.802398  WOODLANDS EAST     WOODLANDS       NORTH REGION  \n",
              "1  1.436060  103.829719     YISHUN WEST        YISHUN       NORTH REGION  \n",
              "2  1.374340  103.851554       CHENG SAN    ANG MO KIO  NORTH-EAST REGION  \n",
              "3  1.331181  103.941853     BEDOK NORTH         BEDOK        EAST REGION  \n",
              "4  1.319616  103.835773         MALCOLM        NOVENA     CENTRAL REGION  "
            ]
          },
          "execution_count": 95,
          "metadata": {},
          "output_type": "execute_result"
        }
      ],
      "source": [
        "sec.head()"
      ]
    },
    {
      "cell_type": "code",
<<<<<<< Updated upstream
<<<<<<< Updated upstream
      "execution_count": null,
=======
      "execution_count": 96,
>>>>>>> Stashed changes
=======
      "execution_count": 96,
>>>>>>> Stashed changes
      "metadata": {
        "id": "mD0h1-fHxXdv"
      },
      "outputs": [],
      "source": [
        "# Distance to school\n",
        "# MOE’s P1 registration use home-school distance categories of <1 km, 1–2 km, >2 km for priority, so those should capture a policy-driven price signal.\n",
        "# For secondary school I'm not sure, maybe if they still live there a sec school nearby is a boon?\n",
        "\n",
        "def add_proximity_to_school(df, tree, prefix, radii=(1000, 2000)):\n",
        "    idx = df[[\"latitude\",\"longitude\"]].dropna().index\n",
        "    X = np.deg2rad(df.loc[idx, [\"latitude\",\"longitude\"]].to_numpy(dtype=float))\n",
        "    # nearest distance (meters)\n",
        "    dist, _ = tree.query(X, k=1)\n",
        "    df.loc[idx, f\"{prefix}_nearest_m\"] = dist[:,0] * R\n",
        "    # counts within radii (meters)\n",
        "    for r in radii:\n",
        "        cnt = tree.query_radius(X, r / R, count_only=True)\n",
        "        df.loc[idx, f\"{prefix}_within_{r}m\"] = cnt\n",
        "    # fill rows without coords\n",
        "    for r in radii:\n",
        "        df[f\"{prefix}_within_{r}m\"] = df.get(f\"{prefix}_within_{r}m\", 0).fillna(0).astype(int)\n",
        "    return df"
      ]
    },
    {
      "cell_type": "code",
<<<<<<< Updated upstream
<<<<<<< Updated upstream
      "execution_count": null,
=======
      "execution_count": 97,
>>>>>>> Stashed changes
=======
      "execution_count": 97,
>>>>>>> Stashed changes
      "metadata": {
        "id": "Wb3B0IxPyYVG"
      },
      "outputs": [],
      "source": [
        "# Primary schools\n",
        "tree_pri = BallTree(to_rad(pri), metric=\"haversine\")\n",
        "train_df = add_proximity_to_school(train_df, tree_pri, \"pri\", radii=(1000, 2000))\n",
        "test_df = add_proximity_to_school(test_df, tree_pri, \"pri\", radii=(1000, 2000))\n",
        "\n",
        "# Secondary schools\n",
        "tree_sec = BallTree(to_rad(sec), metric=\"haversine\")\n",
        "train_df = add_proximity_to_school(train_df, tree_sec, \"sec\", radii=(1000, 2000))\n",
        "test_df = add_proximity_to_school(test_df, tree_sec, \"sec\", radii=(1000, 2000))"
      ]
    },
    {
      "cell_type": "code",
<<<<<<< Updated upstream
<<<<<<< Updated upstream
      "execution_count": null,
=======
      "execution_count": 98,
>>>>>>> Stashed changes
=======
      "execution_count": 98,
>>>>>>> Stashed changes
      "metadata": {
        "colab": {
          "base_uri": "https://localhost:8080/",
          "height": 342
        },
        "id": "-nlsTgyCymG1",
        "outputId": "2d4eb2b1-e15f-449b-fb3c-3b421d056771"
      },
      "outputs": [
        {
          "data": {
            "text/html": [
              "<div>\n",
              "<style scoped>\n",
              "    .dataframe tbody tr th:only-of-type {\n",
              "        vertical-align: middle;\n",
              "    }\n",
              "\n",
              "    .dataframe tbody tr th {\n",
              "        vertical-align: top;\n",
              "    }\n",
              "\n",
              "    .dataframe thead th {\n",
              "        text-align: right;\n",
              "    }\n",
              "</style>\n",
              "<table border=\"1\" class=\"dataframe\">\n",
              "  <thead>\n",
              "    <tr style=\"text-align: right;\">\n",
              "      <th></th>\n",
              "      <th>month</th>\n",
              "      <th>town</th>\n",
              "      <th>flat_type</th>\n",
              "      <th>block</th>\n",
              "      <th>street</th>\n",
              "      <th>floor_mid</th>\n",
              "      <th>floor_area_sqm</th>\n",
              "      <th>flat_model</th>\n",
              "      <th>lease_commence_date</th>\n",
              "      <th>resale_price</th>\n",
              "      <th>...</th>\n",
              "      <th>mrt_plan_within_1000m</th>\n",
              "      <th>mrt_plan_within_2000m</th>\n",
              "      <th>mrt_any_nearest_m</th>\n",
              "      <th>mrt_plan_closer_than_open</th>\n",
              "      <th>pri_nearest_m</th>\n",
              "      <th>pri_within_1000m</th>\n",
              "      <th>pri_within_2000m</th>\n",
              "      <th>sec_nearest_m</th>\n",
              "      <th>sec_within_1000m</th>\n",
              "      <th>sec_within_2000m</th>\n",
              "    </tr>\n",
              "  </thead>\n",
              "  <tbody>\n",
              "    <tr>\n",
              "      <th>0</th>\n",
              "      <td>2020-10-01</td>\n",
              "      <td>WOODLANDS</td>\n",
              "      <td>4 ROOM</td>\n",
              "      <td>681B</td>\n",
              "      <td>WOODLANDS DRIVE 62</td>\n",
              "      <td>8.0</td>\n",
              "      <td>102.0</td>\n",
              "      <td>PREMIUM APARTMENT</td>\n",
              "      <td>2000</td>\n",
              "      <td>420000.0</td>\n",
              "      <td>...</td>\n",
              "      <td>0</td>\n",
              "      <td>0</td>\n",
              "      <td>306.013744</td>\n",
              "      <td>0</td>\n",
              "      <td>168.451629</td>\n",
              "      <td>4</td>\n",
              "      <td>10</td>\n",
              "      <td>268.534382</td>\n",
              "      <td>2</td>\n",
              "      <td>8</td>\n",
              "    </tr>\n",
              "    <tr>\n",
              "      <th>1</th>\n",
              "      <td>2021-07-01</td>\n",
              "      <td>BISHAN</td>\n",
              "      <td>4 ROOM</td>\n",
              "      <td>264</td>\n",
              "      <td>BISHAN STREET 24</td>\n",
              "      <td>8.0</td>\n",
              "      <td>104.0</td>\n",
              "      <td>MODEL A</td>\n",
              "      <td>1992</td>\n",
              "      <td>585000.0</td>\n",
              "      <td>...</td>\n",
              "      <td>1</td>\n",
              "      <td>3</td>\n",
              "      <td>786.297948</td>\n",
              "      <td>1</td>\n",
              "      <td>532.113952</td>\n",
              "      <td>1</td>\n",
              "      <td>9</td>\n",
              "      <td>404.943645</td>\n",
              "      <td>3</td>\n",
              "      <td>11</td>\n",
              "    </tr>\n",
              "    <tr>\n",
              "      <th>2</th>\n",
              "      <td>2021-05-01</td>\n",
              "      <td>BUKIT PANJANG</td>\n",
              "      <td>4 ROOM</td>\n",
              "      <td>520</td>\n",
              "      <td>JELAPANG ROAD</td>\n",
              "      <td>20.0</td>\n",
              "      <td>102.0</td>\n",
              "      <td>MODEL A</td>\n",
              "      <td>1998</td>\n",
              "      <td>450000.0</td>\n",
              "      <td>...</td>\n",
              "      <td>0</td>\n",
              "      <td>0</td>\n",
              "      <td>1052.540106</td>\n",
              "      <td>0</td>\n",
              "      <td>156.783632</td>\n",
              "      <td>5</td>\n",
              "      <td>7</td>\n",
              "      <td>238.378434</td>\n",
              "      <td>2</td>\n",
              "      <td>5</td>\n",
              "    </tr>\n",
              "    <tr>\n",
              "      <th>3</th>\n",
              "      <td>2021-08-01</td>\n",
              "      <td>PUNGGOL</td>\n",
              "      <td>4 ROOM</td>\n",
              "      <td>121B</td>\n",
              "      <td>EDGEDALE PLAINS</td>\n",
              "      <td>17.0</td>\n",
              "      <td>93.0</td>\n",
              "      <td>MODEL A</td>\n",
              "      <td>2017</td>\n",
              "      <td>465000.0</td>\n",
              "      <td>...</td>\n",
              "      <td>1</td>\n",
              "      <td>1</td>\n",
              "      <td>872.296018</td>\n",
              "      <td>0</td>\n",
              "      <td>177.317685</td>\n",
              "      <td>6</td>\n",
              "      <td>15</td>\n",
              "      <td>522.088513</td>\n",
              "      <td>3</td>\n",
              "      <td>7</td>\n",
              "    </tr>\n",
              "    <tr>\n",
              "      <th>4</th>\n",
              "      <td>2023-05-01</td>\n",
              "      <td>HOUGANG</td>\n",
              "      <td>5 ROOM</td>\n",
              "      <td>997B</td>\n",
              "      <td>BUANGKOK CRESCENT</td>\n",
              "      <td>11.0</td>\n",
              "      <td>113.0</td>\n",
              "      <td>IMPROVED</td>\n",
              "      <td>2018</td>\n",
              "      <td>710000.0</td>\n",
              "      <td>...</td>\n",
              "      <td>0</td>\n",
              "      <td>1</td>\n",
              "      <td>1342.862156</td>\n",
              "      <td>0</td>\n",
              "      <td>812.017772</td>\n",
              "      <td>3</td>\n",
              "      <td>13</td>\n",
              "      <td>594.225657</td>\n",
              "      <td>2</td>\n",
              "      <td>7</td>\n",
              "    </tr>\n",
              "  </tbody>\n",
              "</table>\n",
              "<p>5 rows × 41 columns</p>\n",
              "</div>"
            ],
            "text/plain": [
              "       month           town flat_type block              street  floor_mid  \\\n",
              "0 2020-10-01      WOODLANDS    4 ROOM  681B  WOODLANDS DRIVE 62        8.0   \n",
              "1 2021-07-01         BISHAN    4 ROOM   264    BISHAN STREET 24        8.0   \n",
              "2 2021-05-01  BUKIT PANJANG    4 ROOM   520       JELAPANG ROAD       20.0   \n",
              "3 2021-08-01        PUNGGOL    4 ROOM  121B     EDGEDALE PLAINS       17.0   \n",
              "4 2023-05-01        HOUGANG    5 ROOM  997B   BUANGKOK CRESCENT       11.0   \n",
              "\n",
              "   floor_area_sqm         flat_model  lease_commence_date  resale_price  ...  \\\n",
              "0           102.0  PREMIUM APARTMENT                 2000      420000.0  ...   \n",
              "1           104.0            MODEL A                 1992      585000.0  ...   \n",
              "2           102.0            MODEL A                 1998      450000.0  ...   \n",
              "3            93.0            MODEL A                 2017      465000.0  ...   \n",
              "4           113.0           IMPROVED                 2018      710000.0  ...   \n",
              "\n",
              "   mrt_plan_within_1000m  mrt_plan_within_2000m  mrt_any_nearest_m  \\\n",
              "0                      0                      0         306.013744   \n",
              "1                      1                      3         786.297948   \n",
              "2                      0                      0        1052.540106   \n",
              "3                      1                      1         872.296018   \n",
              "4                      0                      1        1342.862156   \n",
              "\n",
              "   mrt_plan_closer_than_open  pri_nearest_m  pri_within_1000m  \\\n",
              "0                          0     168.451629                 4   \n",
              "1                          1     532.113952                 1   \n",
              "2                          0     156.783632                 5   \n",
              "3                          0     177.317685                 6   \n",
              "4                          0     812.017772                 3   \n",
              "\n",
              "   pri_within_2000m  sec_nearest_m  sec_within_1000m  sec_within_2000m  \n",
              "0                10     268.534382                 2                 8  \n",
              "1                 9     404.943645                 3                11  \n",
              "2                 7     238.378434                 2                 5  \n",
              "3                15     522.088513                 3                 7  \n",
              "4                13     594.225657                 2                 7  \n",
              "\n",
              "[5 rows x 41 columns]"
            ]
          },
          "execution_count": 98,
          "metadata": {},
          "output_type": "execute_result"
        }
      ],
      "source": [
        "train_df.head()"
      ]
    },
    {
      "cell_type": "code",
<<<<<<< Updated upstream
<<<<<<< Updated upstream
      "execution_count": null,
      "metadata": {
        "id": "Uktos1ts8P0E"
      },
=======
=======
>>>>>>> Stashed changes
      "execution_count": 99,
      "metadata": {},
>>>>>>> Stashed changes
      "outputs": [],
      "source": [
        "mall = aux_dict[\"malls\"].copy()\n",
        "mall.columns = mall.columns.str.lower()\n",
        "for col in [\"name\", \"street\", \"postal_code\", \"latitude\", \"longitude\", \"subzone\", \"planning_area\", \"region\"]:\n",
        "    if col in pri.columns: pri[col] = pri[col].map(norm_key)"
      ]
    },
    {
      "cell_type": "code",
<<<<<<< Updated upstream
<<<<<<< Updated upstream
      "execution_count": null,
      "metadata": {
        "id": "LhRncY9P8P0E"
      },
=======
=======
>>>>>>> Stashed changes
      "execution_count": 100,
      "metadata": {},
      "outputs": [
        {
          "data": {
            "text/html": [
              "<div>\n",
              "<style scoped>\n",
              "    .dataframe tbody tr th:only-of-type {\n",
              "        vertical-align: middle;\n",
              "    }\n",
              "\n",
              "    .dataframe tbody tr th {\n",
              "        vertical-align: top;\n",
              "    }\n",
              "\n",
              "    .dataframe thead th {\n",
              "        text-align: right;\n",
              "    }\n",
              "</style>\n",
              "<table border=\"1\" class=\"dataframe\">\n",
              "  <thead>\n",
              "    <tr style=\"text-align: right;\">\n",
              "      <th></th>\n",
              "      <th>name</th>\n",
              "      <th>street</th>\n",
              "      <th>postal_code</th>\n",
              "      <th>latitude</th>\n",
              "      <th>longitude</th>\n",
              "      <th>subzone</th>\n",
              "      <th>planning_area</th>\n",
              "      <th>region</th>\n",
              "    </tr>\n",
              "  </thead>\n",
              "  <tbody>\n",
              "    <tr>\n",
              "      <th>0</th>\n",
              "      <td>Bugis Junction</td>\n",
              "      <td>victoria street</td>\n",
              "      <td>188021</td>\n",
              "      <td>1.299113</td>\n",
              "      <td>103.855411</td>\n",
              "      <td>bugis</td>\n",
              "      <td>downtown core</td>\n",
              "      <td>central region</td>\n",
              "    </tr>\n",
              "    <tr>\n",
              "      <th>1</th>\n",
              "      <td>Bugis+</td>\n",
              "      <td>north bridge road</td>\n",
              "      <td>188735</td>\n",
              "      <td>1.298141</td>\n",
              "      <td>103.855635</td>\n",
              "      <td>bugis</td>\n",
              "      <td>downtown core</td>\n",
              "      <td>central region</td>\n",
              "    </tr>\n",
              "    <tr>\n",
              "      <th>2</th>\n",
              "      <td>Capitol Piazza</td>\n",
              "      <td>stamford road</td>\n",
              "      <td>178905</td>\n",
              "      <td>1.293079</td>\n",
              "      <td>103.851262</td>\n",
              "      <td>city hall</td>\n",
              "      <td>downtown core</td>\n",
              "      <td>central region</td>\n",
              "    </tr>\n",
              "    <tr>\n",
              "      <th>3</th>\n",
              "      <td>Cathay Cineleisure Orchard</td>\n",
              "      <td>grange road</td>\n",
              "      <td>239695</td>\n",
              "      <td>1.301521</td>\n",
              "      <td>103.836430</td>\n",
              "      <td>somerset</td>\n",
              "      <td>orchard</td>\n",
              "      <td>central region</td>\n",
              "    </tr>\n",
              "    <tr>\n",
              "      <th>4</th>\n",
              "      <td>The Centrepoint</td>\n",
              "      <td>orchard road</td>\n",
              "      <td>238843</td>\n",
              "      <td>1.301978</td>\n",
              "      <td>103.839759</td>\n",
              "      <td>somerset</td>\n",
              "      <td>orchard</td>\n",
              "      <td>central region</td>\n",
              "    </tr>\n",
              "    <tr>\n",
              "      <th>...</th>\n",
              "      <td>...</td>\n",
              "      <td>...</td>\n",
              "      <td>...</td>\n",
              "      <td>...</td>\n",
              "      <td>...</td>\n",
              "      <td>...</td>\n",
              "      <td>...</td>\n",
              "      <td>...</td>\n",
              "    </tr>\n",
              "    <tr>\n",
              "      <th>84</th>\n",
              "      <td>Queensway Shopping Centre</td>\n",
              "      <td>queensway</td>\n",
              "      <td>149053</td>\n",
              "      <td>1.287595</td>\n",
              "      <td>103.803397</td>\n",
              "      <td>queensway</td>\n",
              "      <td>queenstown</td>\n",
              "      <td>central region</td>\n",
              "    </tr>\n",
              "    <tr>\n",
              "      <th>85</th>\n",
              "      <td>The Rail Mall</td>\n",
              "      <td>upper bukit timah road</td>\n",
              "      <td>678066</td>\n",
              "      <td>1.359569</td>\n",
              "      <td>103.767610</td>\n",
              "      <td>nature reserve</td>\n",
              "      <td>bukit panjang</td>\n",
              "      <td>west region</td>\n",
              "    </tr>\n",
              "    <tr>\n",
              "      <th>86</th>\n",
              "      <td>The Star Vista</td>\n",
              "      <td>vista exchange green</td>\n",
              "      <td>138617</td>\n",
              "      <td>1.306970</td>\n",
              "      <td>103.788420</td>\n",
              "      <td>one north</td>\n",
              "      <td>queenstown</td>\n",
              "      <td>central region</td>\n",
              "    </tr>\n",
              "    <tr>\n",
              "      <th>87</th>\n",
              "      <td>West Coast Plaza</td>\n",
              "      <td>west coast road</td>\n",
              "      <td>127371</td>\n",
              "      <td>1.303625</td>\n",
              "      <td>103.765858</td>\n",
              "      <td>clementi woods</td>\n",
              "      <td>clementi</td>\n",
              "      <td>west region</td>\n",
              "    </tr>\n",
              "    <tr>\n",
              "      <th>88</th>\n",
              "      <td>Westgate</td>\n",
              "      <td>gateway drive</td>\n",
              "      <td>608532</td>\n",
              "      <td>1.334158</td>\n",
              "      <td>103.742766</td>\n",
              "      <td>jurong gateway</td>\n",
              "      <td>jurong east</td>\n",
              "      <td>west region</td>\n",
              "    </tr>\n",
              "  </tbody>\n",
              "</table>\n",
              "<p>89 rows × 8 columns</p>\n",
              "</div>"
            ],
            "text/plain": [
              "                          name                  street  postal_code  latitude  \\\n",
              "0               Bugis Junction         victoria street       188021  1.299113   \n",
              "1                       Bugis+       north bridge road       188735  1.298141   \n",
              "2               Capitol Piazza           stamford road       178905  1.293079   \n",
              "3   Cathay Cineleisure Orchard             grange road       239695  1.301521   \n",
              "4              The Centrepoint            orchard road       238843  1.301978   \n",
              "..                         ...                     ...          ...       ...   \n",
              "84   Queensway Shopping Centre               queensway       149053  1.287595   \n",
              "85               The Rail Mall  upper bukit timah road       678066  1.359569   \n",
              "86              The Star Vista    vista exchange green       138617  1.306970   \n",
              "87            West Coast Plaza         west coast road       127371  1.303625   \n",
              "88                    Westgate           gateway drive       608532  1.334158   \n",
              "\n",
              "     longitude         subzone  planning_area          region  \n",
              "0   103.855411           bugis  downtown core  central region  \n",
              "1   103.855635           bugis  downtown core  central region  \n",
              "2   103.851262       city hall  downtown core  central region  \n",
              "3   103.836430        somerset        orchard  central region  \n",
              "4   103.839759        somerset        orchard  central region  \n",
              "..         ...             ...            ...             ...  \n",
              "84  103.803397       queensway     queenstown  central region  \n",
              "85  103.767610  nature reserve  bukit panjang     west region  \n",
              "86  103.788420       one north     queenstown  central region  \n",
              "87  103.765858  clementi woods       clementi     west region  \n",
              "88  103.742766  jurong gateway    jurong east     west region  \n",
              "\n",
              "[89 rows x 8 columns]"
            ]
          },
          "execution_count": 100,
          "metadata": {},
          "output_type": "execute_result"
        }
      ],
      "source": [
        "mall"
      ]
    },
    {
      "cell_type": "code",
      "execution_count": 101,
<<<<<<< Updated upstream
      "metadata": {},
>>>>>>> Stashed changes
      "outputs": [],
      "source": [
        "def add_proximity_to_mall(df, tree, prefix, radii=(1000, 2000)):\n",
        "    idx = df[[\"latitude\",\"longitude\"]].dropna().index\n",
        "    X = np.deg2rad(df.loc[idx, [\"latitude\",\"longitude\"]].to_numpy(dtype=float))\n",
        "    # nearest distance (meters)\n",
        "    dist, _ = tree.query(X, k=1)\n",
        "    df.loc[idx, f\"{prefix}_nearest_m\"] = dist[:,0] * R\n",
        "    # counts within radii (meters)\n",
        "    for r in radii:\n",
        "        cnt = tree.query_radius(X, r / R, count_only=True)\n",
        "        df.loc[idx, f\"{prefix}_within_{r}m\"] = cnt\n",
        "    # fill rows without coords\n",
        "    for r in radii:\n",
        "        df[f\"{prefix}_within_{r}m\"] = df.get(f\"{prefix}_within_{r}m\", 0).fillna(0).astype(int)\n",
        "    return df"
      ]
    },
    {
      "cell_type": "code",
      "execution_count": 102,
      "metadata": {},
      "outputs": [],
      "source": [
=======
      "metadata": {},
      "outputs": [],
      "source": [
        "def add_proximity_to_mall(df, tree, prefix, radii=(1000, 2000)):\n",
        "    idx = df[[\"latitude\",\"longitude\"]].dropna().index\n",
        "    X = np.deg2rad(df.loc[idx, [\"latitude\",\"longitude\"]].to_numpy(dtype=float))\n",
        "    # nearest distance (meters)\n",
        "    dist, _ = tree.query(X, k=1)\n",
        "    df.loc[idx, f\"{prefix}_nearest_m\"] = dist[:,0] * R\n",
        "    # counts within radii (meters)\n",
        "    for r in radii:\n",
        "        cnt = tree.query_radius(X, r / R, count_only=True)\n",
        "        df.loc[idx, f\"{prefix}_within_{r}m\"] = cnt\n",
        "    # fill rows without coords\n",
        "    for r in radii:\n",
        "        df[f\"{prefix}_within_{r}m\"] = df.get(f\"{prefix}_within_{r}m\", 0).fillna(0).astype(int)\n",
        "    return df"
      ]
    },
    {
      "cell_type": "code",
      "execution_count": 102,
      "metadata": {},
      "outputs": [],
      "source": [
>>>>>>> Stashed changes
        "tree_mall = BallTree(to_rad(mall), metric=\"haversine\")\n",
        "train_df = add_proximity_to_mall(train_df, tree_mall, \"mall\", radii=(1000, 2000))\n",
        "test_df = add_proximity_to_mall(test_df, tree_mall, \"mall\", radii=(1000, 2000))"
      ]
    },
    {
      "cell_type": "code",
      "execution_count": 103,
      "metadata": {},
      "outputs": [
        {
          "data": {
            "text/html": [
              "<div>\n",
              "<style scoped>\n",
              "    .dataframe tbody tr th:only-of-type {\n",
              "        vertical-align: middle;\n",
              "    }\n",
              "\n",
              "    .dataframe tbody tr th {\n",
              "        vertical-align: top;\n",
              "    }\n",
              "\n",
              "    .dataframe thead th {\n",
              "        text-align: right;\n",
              "    }\n",
              "</style>\n",
              "<table border=\"1\" class=\"dataframe\">\n",
              "  <thead>\n",
              "    <tr style=\"text-align: right;\">\n",
              "      <th></th>\n",
              "      <th>month</th>\n",
              "      <th>town</th>\n",
              "      <th>flat_type</th>\n",
              "      <th>block</th>\n",
              "      <th>street</th>\n",
              "      <th>floor_mid</th>\n",
              "      <th>floor_area_sqm</th>\n",
              "      <th>flat_model</th>\n",
              "      <th>lease_commence_date</th>\n",
              "      <th>resale_price</th>\n",
              "      <th>...</th>\n",
              "      <th>mrt_plan_closer_than_open</th>\n",
              "      <th>pri_nearest_m</th>\n",
              "      <th>pri_within_1000m</th>\n",
              "      <th>pri_within_2000m</th>\n",
              "      <th>sec_nearest_m</th>\n",
              "      <th>sec_within_1000m</th>\n",
              "      <th>sec_within_2000m</th>\n",
              "      <th>mall_nearest_m</th>\n",
              "      <th>mall_within_1000m</th>\n",
              "      <th>mall_within_2000m</th>\n",
              "    </tr>\n",
              "  </thead>\n",
              "  <tbody>\n",
              "    <tr>\n",
              "      <th>0</th>\n",
              "      <td>2020-10-01</td>\n",
              "      <td>WOODLANDS</td>\n",
              "      <td>4 ROOM</td>\n",
              "      <td>681B</td>\n",
              "      <td>WOODLANDS DRIVE 62</td>\n",
              "      <td>8.0</td>\n",
              "      <td>102.0</td>\n",
              "      <td>PREMIUM APARTMENT</td>\n",
              "      <td>2000</td>\n",
              "      <td>420000.0</td>\n",
              "      <td>...</td>\n",
              "      <td>0</td>\n",
              "      <td>168.451629</td>\n",
              "      <td>4</td>\n",
              "      <td>10</td>\n",
              "      <td>268.534382</td>\n",
              "      <td>2</td>\n",
              "      <td>8</td>\n",
              "      <td>1994.701707</td>\n",
              "      <td>0</td>\n",
              "      <td>1</td>\n",
              "    </tr>\n",
              "    <tr>\n",
              "      <th>1</th>\n",
              "      <td>2021-07-01</td>\n",
              "      <td>BISHAN</td>\n",
              "      <td>4 ROOM</td>\n",
              "      <td>264</td>\n",
              "      <td>BISHAN STREET 24</td>\n",
              "      <td>8.0</td>\n",
              "      <td>104.0</td>\n",
              "      <td>MODEL A</td>\n",
              "      <td>1992</td>\n",
              "      <td>585000.0</td>\n",
              "      <td>...</td>\n",
              "      <td>1</td>\n",
              "      <td>532.113952</td>\n",
              "      <td>1</td>\n",
              "      <td>9</td>\n",
              "      <td>404.943645</td>\n",
              "      <td>3</td>\n",
              "      <td>11</td>\n",
              "      <td>1176.138670</td>\n",
              "      <td>0</td>\n",
              "      <td>3</td>\n",
              "    </tr>\n",
              "    <tr>\n",
              "      <th>2</th>\n",
              "      <td>2021-05-01</td>\n",
              "      <td>BUKIT PANJANG</td>\n",
              "      <td>4 ROOM</td>\n",
              "      <td>520</td>\n",
              "      <td>JELAPANG ROAD</td>\n",
              "      <td>20.0</td>\n",
              "      <td>102.0</td>\n",
              "      <td>MODEL A</td>\n",
              "      <td>1998</td>\n",
              "      <td>450000.0</td>\n",
              "      <td>...</td>\n",
              "      <td>0</td>\n",
              "      <td>156.783632</td>\n",
              "      <td>5</td>\n",
              "      <td>7</td>\n",
              "      <td>238.378434</td>\n",
              "      <td>2</td>\n",
              "      <td>5</td>\n",
              "      <td>980.543397</td>\n",
              "      <td>1</td>\n",
              "      <td>1</td>\n",
              "    </tr>\n",
              "    <tr>\n",
              "      <th>3</th>\n",
              "      <td>2021-08-01</td>\n",
              "      <td>PUNGGOL</td>\n",
              "      <td>4 ROOM</td>\n",
              "      <td>121B</td>\n",
              "      <td>EDGEDALE PLAINS</td>\n",
              "      <td>17.0</td>\n",
              "      <td>93.0</td>\n",
              "      <td>MODEL A</td>\n",
              "      <td>2017</td>\n",
              "      <td>465000.0</td>\n",
              "      <td>...</td>\n",
              "      <td>0</td>\n",
              "      <td>177.317685</td>\n",
              "      <td>6</td>\n",
              "      <td>15</td>\n",
              "      <td>522.088513</td>\n",
              "      <td>3</td>\n",
              "      <td>7</td>\n",
              "      <td>463.143097</td>\n",
              "      <td>1</td>\n",
              "      <td>4</td>\n",
              "    </tr>\n",
              "    <tr>\n",
              "      <th>4</th>\n",
              "      <td>2023-05-01</td>\n",
              "      <td>HOUGANG</td>\n",
              "      <td>5 ROOM</td>\n",
              "      <td>997B</td>\n",
              "      <td>BUANGKOK CRESCENT</td>\n",
              "      <td>11.0</td>\n",
              "      <td>113.0</td>\n",
              "      <td>IMPROVED</td>\n",
              "      <td>2018</td>\n",
              "      <td>710000.0</td>\n",
              "      <td>...</td>\n",
              "      <td>0</td>\n",
              "      <td>812.017772</td>\n",
              "      <td>3</td>\n",
              "      <td>13</td>\n",
              "      <td>594.225657</td>\n",
              "      <td>2</td>\n",
              "      <td>7</td>\n",
              "      <td>851.672489</td>\n",
              "      <td>1</td>\n",
              "      <td>2</td>\n",
              "    </tr>\n",
              "  </tbody>\n",
              "</table>\n",
              "<p>5 rows × 44 columns</p>\n",
              "</div>"
            ],
            "text/plain": [
              "       month           town flat_type block              street  floor_mid  \\\n",
              "0 2020-10-01      WOODLANDS    4 ROOM  681B  WOODLANDS DRIVE 62        8.0   \n",
              "1 2021-07-01         BISHAN    4 ROOM   264    BISHAN STREET 24        8.0   \n",
              "2 2021-05-01  BUKIT PANJANG    4 ROOM   520       JELAPANG ROAD       20.0   \n",
              "3 2021-08-01        PUNGGOL    4 ROOM  121B     EDGEDALE PLAINS       17.0   \n",
              "4 2023-05-01        HOUGANG    5 ROOM  997B   BUANGKOK CRESCENT       11.0   \n",
              "\n",
              "   floor_area_sqm         flat_model  lease_commence_date  resale_price  ...  \\\n",
              "0           102.0  PREMIUM APARTMENT                 2000      420000.0  ...   \n",
              "1           104.0            MODEL A                 1992      585000.0  ...   \n",
              "2           102.0            MODEL A                 1998      450000.0  ...   \n",
              "3            93.0            MODEL A                 2017      465000.0  ...   \n",
              "4           113.0           IMPROVED                 2018      710000.0  ...   \n",
              "\n",
              "   mrt_plan_closer_than_open  pri_nearest_m  pri_within_1000m  \\\n",
              "0                          0     168.451629                 4   \n",
              "1                          1     532.113952                 1   \n",
              "2                          0     156.783632                 5   \n",
              "3                          0     177.317685                 6   \n",
              "4                          0     812.017772                 3   \n",
              "\n",
              "   pri_within_2000m  sec_nearest_m  sec_within_1000m  sec_within_2000m  \\\n",
              "0                10     268.534382                 2                 8   \n",
              "1                 9     404.943645                 3                11   \n",
              "2                 7     238.378434                 2                 5   \n",
              "3                15     522.088513                 3                 7   \n",
              "4                13     594.225657                 2                 7   \n",
              "\n",
              "   mall_nearest_m  mall_within_1000m  mall_within_2000m  \n",
              "0     1994.701707                  0                  1  \n",
              "1     1176.138670                  0                  3  \n",
              "2      980.543397                  1                  1  \n",
              "3      463.143097                  1                  4  \n",
              "4      851.672489                  1                  2  \n",
              "\n",
              "[5 rows x 44 columns]"
            ]
          },
          "execution_count": 103,
          "metadata": {},
          "output_type": "execute_result"
        }
      ],
      "source": [
        "train_df.head()"
      ]
    },
    {
      "cell_type": "code",
      "execution_count": 104,
      "metadata": {},
      "outputs": [],
      "source": [
        "hawker = aux_dict[\"hawkers\"].copy()\n",
        "hawker.columns = hawker.columns.str.lower()"
      ]
    },
    {
      "cell_type": "code",
      "execution_count": 105,
      "metadata": {},
      "outputs": [
        {
          "data": {
            "text/html": [
              "<div>\n",
              "<style scoped>\n",
              "    .dataframe tbody tr th:only-of-type {\n",
              "        vertical-align: middle;\n",
              "    }\n",
              "\n",
              "    .dataframe tbody tr th {\n",
              "        vertical-align: top;\n",
              "    }\n",
              "\n",
              "    .dataframe thead th {\n",
              "        text-align: right;\n",
              "    }\n",
              "</style>\n",
              "<table border=\"1\" class=\"dataframe\">\n",
              "  <thead>\n",
              "    <tr style=\"text-align: right;\">\n",
              "      <th></th>\n",
              "      <th>name</th>\n",
              "      <th>address</th>\n",
              "      <th>type</th>\n",
              "      <th>owner</th>\n",
              "      <th>number_of_stalls</th>\n",
              "      <th>latitude</th>\n",
              "      <th>longitude</th>\n",
              "    </tr>\n",
              "  </thead>\n",
              "  <tbody>\n",
              "    <tr>\n",
              "      <th>0</th>\n",
              "      <td>Adam Road Food Centre</td>\n",
              "      <td>2, Adam Road, S(289876)</td>\n",
              "      <td>HC</td>\n",
              "      <td>Government</td>\n",
              "      <td>32</td>\n",
              "      <td>1.324160</td>\n",
              "      <td>103.814166</td>\n",
              "    </tr>\n",
              "    <tr>\n",
              "      <th>1</th>\n",
              "      <td>Amoy Street Food Centre</td>\n",
              "      <td>National Development Building, Annex B, Telok ...</td>\n",
              "      <td>HC</td>\n",
              "      <td>Government</td>\n",
              "      <td>135</td>\n",
              "      <td>1.281278</td>\n",
              "      <td>103.847032</td>\n",
              "    </tr>\n",
              "    <tr>\n",
              "      <th>2</th>\n",
              "      <td>Bedok Food Centre</td>\n",
              "      <td>1, Bedok Road, S(469572)</td>\n",
              "      <td>HC</td>\n",
              "      <td>Government</td>\n",
              "      <td>32</td>\n",
              "      <td>1.320350</td>\n",
              "      <td>103.955478</td>\n",
              "    </tr>\n",
              "    <tr>\n",
              "      <th>3</th>\n",
              "      <td>Beo Crescent Market</td>\n",
              "      <td>38A, Beo Crescent, S(169982)</td>\n",
              "      <td>MHC</td>\n",
              "      <td>Government</td>\n",
              "      <td>94</td>\n",
              "      <td>1.288831</td>\n",
              "      <td>103.827354</td>\n",
              "    </tr>\n",
              "    <tr>\n",
              "      <th>4</th>\n",
              "      <td>Berseh Food Centre</td>\n",
              "      <td>166, Jalan Besar, S(208877)</td>\n",
              "      <td>HC</td>\n",
              "      <td>Government</td>\n",
              "      <td>66</td>\n",
              "      <td>1.307344</td>\n",
              "      <td>103.856889</td>\n",
              "    </tr>\n",
              "  </tbody>\n",
              "</table>\n",
              "</div>"
            ],
            "text/plain": [
              "                      name                                            address  \\\n",
              "0    Adam Road Food Centre                            2, Adam Road, S(289876)   \n",
              "1  Amoy Street Food Centre  National Development Building, Annex B, Telok ...   \n",
              "2        Bedok Food Centre                           1, Bedok Road, S(469572)   \n",
              "3      Beo Crescent Market                       38A, Beo Crescent, S(169982)   \n",
              "4       Berseh Food Centre                        166, Jalan Besar, S(208877)   \n",
              "\n",
              "  type       owner  number_of_stalls  latitude   longitude  \n",
              "0   HC  Government                32  1.324160  103.814166  \n",
              "1   HC  Government               135  1.281278  103.847032  \n",
              "2   HC  Government                32  1.320350  103.955478  \n",
              "3  MHC  Government                94  1.288831  103.827354  \n",
              "4   HC  Government                66  1.307344  103.856889  "
            ]
          },
          "execution_count": 105,
          "metadata": {},
          "output_type": "execute_result"
        }
      ],
      "source": [
        "hawker.head()"
      ]
    },
    {
      "cell_type": "code",
      "execution_count": 106,
      "metadata": {},
      "outputs": [],
      "source": [
        "def add_proximity_to_hawker(df, tree, prefix, radii=(500, 1000)):\n",
        "    idx = df[[\"latitude\",\"longitude\"]].dropna().index\n",
        "    # nothing to do if no points with coords\n",
        "    if len(idx) == 0:\n",
        "        # ensure columns exist for downstream code\n",
        "        for r in radii:\n",
        "            df[f\"{prefix}_within_{r}m\"] = df.get(f\"{prefix}_within_{r}m\", 0).fillna(0).astype(int)\n",
        "            df[f\"{prefix}_stalls_within_{r}m\"] = df.get(f\"{prefix}_stalls_within_{r}m\", 0).fillna(0).astype(int)\n",
        "        df[f\"{prefix}_nearest_m\"] = np.nan\n",
        "        return df\n",
        "\n",
        "    X = np.deg2rad(df.loc[idx, [\"latitude\",\"longitude\"]].to_numpy(dtype=float))\n",
        "    # nearest distance (meters)\n",
        "    dist, _ = tree.query(X, k=1)\n",
        "    df.loc[idx, f\"{prefix}_nearest_m\"] = dist[:,0] * R\n",
        "\n",
        "    # counts within radii (meters) and sum of stalls within radii\n",
        "    stalls_col = 'number_of_stalls'\n",
        "    for r in radii:\n",
        "        inds = tree.query_radius(X, r / R)\n",
        "        cnt = np.array([len(a) for a in inds])\n",
        "        df.loc[idx, f\"{prefix}_within_{r}m\"] = cnt\n",
        "        stalls_sum = np.array([hawker.iloc[a][stalls_col].sum() if len(a) > 0 else 0 for a in inds])\n",
        "        df.loc[idx, f\"{prefix}_stalls_within_{r}m\"] = stalls_sum\n",
        "\n",
        "    # fill rows without coords and ensure integer types for counts\n",
        "    for r in radii:\n",
        "        df[f\"{prefix}_within_{r}m\"] = df.get(f\"{prefix}_within_{r}m\", 0).fillna(0).astype(int)\n",
        "        df[f\"{prefix}_stalls_within_{r}m\"] = df.get(f\"{prefix}_stalls_within_{r}m\", 0).fillna(0).astype(int)\n",
        "    return df"
      ]
    },
    {
      "cell_type": "code",
      "execution_count": 107,
      "metadata": {},
      "outputs": [],
      "source": [
        "tree_hawker = BallTree(to_rad(hawker), metric=\"haversine\")\n",
        "train_df = add_proximity_to_hawker(train_df, tree_hawker, \"hawker\", radii=(500, 1000))\n",
        "test_df = add_proximity_to_hawker(test_df, tree_hawker, \"hawker\", radii=(500, 1000))"
      ]
    },
    {
      "cell_type": "code",
      "execution_count": 109,
      "metadata": {},
      "outputs": [
        {
          "data": {
            "text/plain": [
              "hawker_within_500m\n",
              "0    117100\n",
              "1     29737\n",
              "2     12248\n",
              "3      2956\n",
              "4       582\n",
              "5        68\n",
              "dtype: int64"
            ]
          },
          "execution_count": 109,
          "metadata": {},
          "output_type": "execute_result"
        }
      ],
      "source": [
        "\n",
        "train_df.groupby(\"hawker_within_500m\").size()"
      ]
    }
  ],
  "metadata": {
    "colab": {
      "provenance": [],
      "toc_visible": true,
      "include_colab_link": true
    },
    "kernelspec": {
      "display_name": "3.10.11",
      "language": "python",
      "name": "python3"
    },
    "language_info": {
      "codemirror_mode": {
        "name": "ipython",
        "version": 3
      },
      "file_extension": ".py",
      "mimetype": "text/x-python",
      "name": "python",
      "nbconvert_exporter": "python",
      "pygments_lexer": "ipython3",
      "version": "3.10.11"
    }
  },
  "nbformat": 4,
  "nbformat_minor": 0
}